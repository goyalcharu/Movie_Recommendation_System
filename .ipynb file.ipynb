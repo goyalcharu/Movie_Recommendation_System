{
 "cells": [
  {
   "cell_type": "markdown",
   "metadata": {},
   "source": [
    "<h1><b><u><font color='red'>PYTHON PROGRAMMING IMDB MINI PROJECT</font></u></b></h1>"
   ]
  },
  {
   "cell_type": "markdown",
   "metadata": {},
   "source": [
    "## AIM:\n",
    "* <b><u>Aim-1:</u></b> To make a recommendation system which suggests movies of the genre we input and print them in descending order on the basis of their ratings. \n",
    "* <b><u>Aim-2:</u></b> To input a movie name and display its timeline, year of release, genre and IMDB rating.\n",
    "* <b><u>Aim-3:</u></b> To input a year/ time period and to display movies released during that period."
   ]
  },
  {
   "cell_type": "markdown",
   "metadata": {},
   "source": [
    "<h3>The primary goal of the project is to go through the dataset and the general data analysis process using numpy, pandas, matplotlib and sns. This contains four parts:</h3>\n",
    "<ol>\n",
    "<li>Introduction</li>\n",
    "<li>Data Cleaning/Preprocessing</li>\n",
    "<li>Exploratory data analysis</li>\n",
    "<li>Conclusions</li>\n",
    "</ol>"
   ]
  },
  {
   "cell_type": "markdown",
   "metadata": {},
   "source": [
    "## <u>INTRODUCTION</u>"
   ]
  },
  {
   "cell_type": "markdown",
   "metadata": {},
   "source": [
    "<b><u>ABOUT THE DATASET</u></b>"
   ]
  },
  {
   "cell_type": "markdown",
   "metadata": {},
   "source": [
    "We chose movie data set for data analysis. This data set contains information about 1000 movies having the highest ratings collected from IMDb ( Internet Movie Database), including user ratings, revenue, genre, timeline and year of release. We would like to find some interesting patterns in the dataset."
   ]
  },
  {
   "cell_type": "markdown",
   "metadata": {},
   "source": [
    "We have imported four Python Libraries for the csv data. "
   ]
  },
  {
   "cell_type": "code",
   "execution_count": 1,
   "metadata": {},
   "outputs": [],
   "source": [
    "import numpy as np\n",
    "import pandas as pd\n",
    "import matplotlib.pyplot as plt\n",
    "import seaborn as sns"
   ]
  },
  {
   "cell_type": "code",
   "execution_count": 2,
   "metadata": {},
   "outputs": [],
   "source": [
    "# How to read a csv file ?\n",
    "IMDB = pd.read_csv(r\"C:\\Users\\HP\\Desktop\\IMDB.csv\")"
   ]
  },
  {
   "cell_type": "code",
   "execution_count": 3,
   "metadata": {},
   "outputs": [
    {
     "data": {
      "text/plain": [
       "(1000, 10)"
      ]
     },
     "execution_count": 3,
     "metadata": {},
     "output_type": "execute_result"
    }
   ],
   "source": [
    "# How to find the number of rows and columns(shape) of a dataset ?\n",
    "IMDB.shape"
   ]
  },
  {
   "cell_type": "code",
   "execution_count": 4,
   "metadata": {},
   "outputs": [
    {
     "data": {
      "text/html": [
       "<div>\n",
       "<style scoped>\n",
       "    .dataframe tbody tr th:only-of-type {\n",
       "        vertical-align: middle;\n",
       "    }\n",
       "\n",
       "    .dataframe tbody tr th {\n",
       "        vertical-align: top;\n",
       "    }\n",
       "\n",
       "    .dataframe thead th {\n",
       "        text-align: right;\n",
       "    }\n",
       "</style>\n",
       "<table border=\"1\" class=\"dataframe\">\n",
       "  <thead>\n",
       "    <tr style=\"text-align: right;\">\n",
       "      <th></th>\n",
       "      <th>S.No.</th>\n",
       "      <th>name</th>\n",
       "      <th>year</th>\n",
       "      <th>runtime</th>\n",
       "      <th>genre</th>\n",
       "      <th>rating</th>\n",
       "      <th>metascore</th>\n",
       "      <th>timeline</th>\n",
       "      <th>votes</th>\n",
       "      <th>gross</th>\n",
       "    </tr>\n",
       "  </thead>\n",
       "  <tbody>\n",
       "    <tr>\n",
       "      <th>0</th>\n",
       "      <td>0</td>\n",
       "      <td>The Shawshank Redemption</td>\n",
       "      <td>1994</td>\n",
       "      <td>142</td>\n",
       "      <td>Drama</td>\n",
       "      <td>9.3</td>\n",
       "      <td>80.0</td>\n",
       "      <td>Two imprisoned men bond over a number of years...</td>\n",
       "      <td>23,94,059</td>\n",
       "      <td>$28.34M</td>\n",
       "    </tr>\n",
       "    <tr>\n",
       "      <th>1</th>\n",
       "      <td>1</td>\n",
       "      <td>The Godfather</td>\n",
       "      <td>1972</td>\n",
       "      <td>175</td>\n",
       "      <td>Crime, Drama</td>\n",
       "      <td>9.2</td>\n",
       "      <td>100.0</td>\n",
       "      <td>An organized crime dynasty's aging patriarch t...</td>\n",
       "      <td>16,58,439</td>\n",
       "      <td>$134.97M</td>\n",
       "    </tr>\n",
       "    <tr>\n",
       "      <th>2</th>\n",
       "      <td>2</td>\n",
       "      <td>Soorarai Pottru</td>\n",
       "      <td>2020</td>\n",
       "      <td>153</td>\n",
       "      <td>Drama</td>\n",
       "      <td>9.1</td>\n",
       "      <td>NaN</td>\n",
       "      <td>Nedumaaran Rajangam \"Maara\" sets out to make t...</td>\n",
       "      <td>78,266</td>\n",
       "      <td>NaN</td>\n",
       "    </tr>\n",
       "    <tr>\n",
       "      <th>3</th>\n",
       "      <td>3</td>\n",
       "      <td>The Dark Knight</td>\n",
       "      <td>2008</td>\n",
       "      <td>152</td>\n",
       "      <td>Action, Crime, Drama</td>\n",
       "      <td>9.0</td>\n",
       "      <td>84.0</td>\n",
       "      <td>When the menace known as the Joker wreaks havo...</td>\n",
       "      <td>23,55,907</td>\n",
       "      <td>$534.86M</td>\n",
       "    </tr>\n",
       "    <tr>\n",
       "      <th>4</th>\n",
       "      <td>4</td>\n",
       "      <td>The Godfather: Part II</td>\n",
       "      <td>1974</td>\n",
       "      <td>202</td>\n",
       "      <td>Crime, Drama</td>\n",
       "      <td>9.0</td>\n",
       "      <td>90.0</td>\n",
       "      <td>The early life and career of Vito Corleone in ...</td>\n",
       "      <td>11,52,912</td>\n",
       "      <td>$57.30M</td>\n",
       "    </tr>\n",
       "  </tbody>\n",
       "</table>\n",
       "</div>"
      ],
      "text/plain": [
       "   S.No.                      name  year  runtime                 genre  \\\n",
       "0      0  The Shawshank Redemption  1994      142                 Drama   \n",
       "1      1             The Godfather  1972      175          Crime, Drama   \n",
       "2      2           Soorarai Pottru  2020      153                 Drama   \n",
       "3      3           The Dark Knight  2008      152  Action, Crime, Drama   \n",
       "4      4    The Godfather: Part II  1974      202          Crime, Drama   \n",
       "\n",
       "   rating  metascore                                           timeline  \\\n",
       "0     9.3       80.0  Two imprisoned men bond over a number of years...   \n",
       "1     9.2      100.0  An organized crime dynasty's aging patriarch t...   \n",
       "2     9.1        NaN  Nedumaaran Rajangam \"Maara\" sets out to make t...   \n",
       "3     9.0       84.0  When the menace known as the Joker wreaks havo...   \n",
       "4     9.0       90.0  The early life and career of Vito Corleone in ...   \n",
       "\n",
       "       votes     gross  \n",
       "0  23,94,059   $28.34M  \n",
       "1  16,58,439  $134.97M  \n",
       "2     78,266       NaN  \n",
       "3  23,55,907  $534.86M  \n",
       "4  11,52,912   $57.30M  "
      ]
     },
     "execution_count": 4,
     "metadata": {},
     "output_type": "execute_result"
    }
   ],
   "source": [
    "# How to print the top five rows of a dataset ?\n",
    "# We can specify the number of rows we want to print in the parenthesis.\n",
    "IMDB.head()"
   ]
  },
  {
   "cell_type": "code",
   "execution_count": 5,
   "metadata": {},
   "outputs": [
    {
     "data": {
      "text/html": [
       "<div>\n",
       "<style scoped>\n",
       "    .dataframe tbody tr th:only-of-type {\n",
       "        vertical-align: middle;\n",
       "    }\n",
       "\n",
       "    .dataframe tbody tr th {\n",
       "        vertical-align: top;\n",
       "    }\n",
       "\n",
       "    .dataframe thead th {\n",
       "        text-align: right;\n",
       "    }\n",
       "</style>\n",
       "<table border=\"1\" class=\"dataframe\">\n",
       "  <thead>\n",
       "    <tr style=\"text-align: right;\">\n",
       "      <th></th>\n",
       "      <th>S.No.</th>\n",
       "      <th>name</th>\n",
       "      <th>year</th>\n",
       "      <th>runtime</th>\n",
       "      <th>genre</th>\n",
       "      <th>rating</th>\n",
       "      <th>metascore</th>\n",
       "      <th>timeline</th>\n",
       "      <th>votes</th>\n",
       "      <th>gross</th>\n",
       "    </tr>\n",
       "  </thead>\n",
       "  <tbody>\n",
       "    <tr>\n",
       "      <th>995</th>\n",
       "      <td>995</td>\n",
       "      <td>Breakfast at Tiffany's</td>\n",
       "      <td>1961</td>\n",
       "      <td>115</td>\n",
       "      <td>Comedy, Drama, Romance</td>\n",
       "      <td>7.6</td>\n",
       "      <td>76.0</td>\n",
       "      <td>A young New York socialite becomes interested ...</td>\n",
       "      <td>1,69,575</td>\n",
       "      <td>NaN</td>\n",
       "    </tr>\n",
       "    <tr>\n",
       "      <th>996</th>\n",
       "      <td>996</td>\n",
       "      <td>Giant</td>\n",
       "      <td>1956</td>\n",
       "      <td>201</td>\n",
       "      <td>Drama, Western</td>\n",
       "      <td>7.6</td>\n",
       "      <td>84.0</td>\n",
       "      <td>Sprawling epic covering the life of a Texas ca...</td>\n",
       "      <td>34,759</td>\n",
       "      <td>NaN</td>\n",
       "    </tr>\n",
       "    <tr>\n",
       "      <th>997</th>\n",
       "      <td>997</td>\n",
       "      <td>Shane</td>\n",
       "      <td>1953</td>\n",
       "      <td>118</td>\n",
       "      <td>Drama, Western</td>\n",
       "      <td>7.6</td>\n",
       "      <td>80.0</td>\n",
       "      <td>A weary gunfighter attempts to settle down wit...</td>\n",
       "      <td>37,753</td>\n",
       "      <td>$20.00M</td>\n",
       "    </tr>\n",
       "    <tr>\n",
       "      <th>998</th>\n",
       "      <td>998</td>\n",
       "      <td>From Here to Eternity</td>\n",
       "      <td>1953</td>\n",
       "      <td>118</td>\n",
       "      <td>Drama, Romance, War</td>\n",
       "      <td>7.6</td>\n",
       "      <td>85.0</td>\n",
       "      <td>In Hawaii in 1941, a private is cruelly punish...</td>\n",
       "      <td>44,086</td>\n",
       "      <td>$30.50M</td>\n",
       "    </tr>\n",
       "    <tr>\n",
       "      <th>999</th>\n",
       "      <td>999</td>\n",
       "      <td>Lifeboat</td>\n",
       "      <td>1944</td>\n",
       "      <td>97</td>\n",
       "      <td>Drama, War</td>\n",
       "      <td>7.6</td>\n",
       "      <td>78.0</td>\n",
       "      <td>Several survivors of a torpedoed merchant ship...</td>\n",
       "      <td>26,903</td>\n",
       "      <td>NaN</td>\n",
       "    </tr>\n",
       "  </tbody>\n",
       "</table>\n",
       "</div>"
      ],
      "text/plain": [
       "     S.No.                    name  year  runtime                   genre  \\\n",
       "995    995  Breakfast at Tiffany's  1961      115  Comedy, Drama, Romance   \n",
       "996    996                   Giant  1956      201          Drama, Western   \n",
       "997    997                   Shane  1953      118          Drama, Western   \n",
       "998    998   From Here to Eternity  1953      118     Drama, Romance, War   \n",
       "999    999                Lifeboat  1944       97              Drama, War   \n",
       "\n",
       "     rating  metascore                                           timeline  \\\n",
       "995     7.6       76.0  A young New York socialite becomes interested ...   \n",
       "996     7.6       84.0  Sprawling epic covering the life of a Texas ca...   \n",
       "997     7.6       80.0  A weary gunfighter attempts to settle down wit...   \n",
       "998     7.6       85.0  In Hawaii in 1941, a private is cruelly punish...   \n",
       "999     7.6       78.0  Several survivors of a torpedoed merchant ship...   \n",
       "\n",
       "        votes    gross  \n",
       "995  1,69,575      NaN  \n",
       "996    34,759      NaN  \n",
       "997    37,753  $20.00M  \n",
       "998    44,086  $30.50M  \n",
       "999    26,903      NaN  "
      ]
     },
     "execution_count": 5,
     "metadata": {},
     "output_type": "execute_result"
    }
   ],
   "source": [
    "# How to print the bottom five rows of a dataset ?\n",
    "# We can specify the number of rows we want to print in the parenthesis.\n",
    "IMDB.tail()"
   ]
  },
  {
   "cell_type": "code",
   "execution_count": 6,
   "metadata": {},
   "outputs": [
    {
     "name": "stdout",
     "output_type": "stream",
     "text": [
      "<class 'pandas.core.frame.DataFrame'>\n",
      "RangeIndex: 1000 entries, 0 to 999\n",
      "Data columns (total 10 columns):\n",
      " #   Column     Non-Null Count  Dtype  \n",
      "---  ------     --------------  -----  \n",
      " 0   S.No.      1000 non-null   int64  \n",
      " 1   name       1000 non-null   object \n",
      " 2   year       1000 non-null   object \n",
      " 3   runtime    1000 non-null   int64  \n",
      " 4   genre      1000 non-null   object \n",
      " 5   rating     1000 non-null   float64\n",
      " 6   metascore  841 non-null    float64\n",
      " 7   timeline   1000 non-null   object \n",
      " 8   votes      1000 non-null   object \n",
      " 9   gross      829 non-null    object \n",
      "dtypes: float64(2), int64(2), object(6)\n",
      "memory usage: 78.2+ KB\n"
     ]
    }
   ],
   "source": [
    "# How to find the data type of the columns in a dataset ?\n",
    "IMDB.info()"
   ]
  },
  {
   "cell_type": "code",
   "execution_count": 7,
   "metadata": {},
   "outputs": [
    {
     "data": {
      "text/html": [
       "<div>\n",
       "<style scoped>\n",
       "    .dataframe tbody tr th:only-of-type {\n",
       "        vertical-align: middle;\n",
       "    }\n",
       "\n",
       "    .dataframe tbody tr th {\n",
       "        vertical-align: top;\n",
       "    }\n",
       "\n",
       "    .dataframe thead th {\n",
       "        text-align: right;\n",
       "    }\n",
       "</style>\n",
       "<table border=\"1\" class=\"dataframe\">\n",
       "  <thead>\n",
       "    <tr style=\"text-align: right;\">\n",
       "      <th></th>\n",
       "      <th>S.No.</th>\n",
       "      <th>runtime</th>\n",
       "      <th>rating</th>\n",
       "      <th>metascore</th>\n",
       "    </tr>\n",
       "  </thead>\n",
       "  <tbody>\n",
       "    <tr>\n",
       "      <th>count</th>\n",
       "      <td>1000.000000</td>\n",
       "      <td>1000.000000</td>\n",
       "      <td>1000.000000</td>\n",
       "      <td>841.000000</td>\n",
       "    </tr>\n",
       "    <tr>\n",
       "      <th>mean</th>\n",
       "      <td>499.500000</td>\n",
       "      <td>123.017000</td>\n",
       "      <td>7.954000</td>\n",
       "      <td>78.158145</td>\n",
       "    </tr>\n",
       "    <tr>\n",
       "      <th>std</th>\n",
       "      <td>288.819436</td>\n",
       "      <td>28.212598</td>\n",
       "      <td>0.276008</td>\n",
       "      <td>12.289270</td>\n",
       "    </tr>\n",
       "    <tr>\n",
       "      <th>min</th>\n",
       "      <td>0.000000</td>\n",
       "      <td>45.000000</td>\n",
       "      <td>7.600000</td>\n",
       "      <td>28.000000</td>\n",
       "    </tr>\n",
       "    <tr>\n",
       "      <th>25%</th>\n",
       "      <td>249.750000</td>\n",
       "      <td>103.000000</td>\n",
       "      <td>7.700000</td>\n",
       "      <td>71.000000</td>\n",
       "    </tr>\n",
       "    <tr>\n",
       "      <th>50%</th>\n",
       "      <td>499.500000</td>\n",
       "      <td>119.000000</td>\n",
       "      <td>7.900000</td>\n",
       "      <td>79.000000</td>\n",
       "    </tr>\n",
       "    <tr>\n",
       "      <th>75%</th>\n",
       "      <td>749.250000</td>\n",
       "      <td>137.000000</td>\n",
       "      <td>8.100000</td>\n",
       "      <td>87.000000</td>\n",
       "    </tr>\n",
       "    <tr>\n",
       "      <th>max</th>\n",
       "      <td>999.000000</td>\n",
       "      <td>321.000000</td>\n",
       "      <td>9.300000</td>\n",
       "      <td>100.000000</td>\n",
       "    </tr>\n",
       "  </tbody>\n",
       "</table>\n",
       "</div>"
      ],
      "text/plain": [
       "             S.No.      runtime       rating   metascore\n",
       "count  1000.000000  1000.000000  1000.000000  841.000000\n",
       "mean    499.500000   123.017000     7.954000   78.158145\n",
       "std     288.819436    28.212598     0.276008   12.289270\n",
       "min       0.000000    45.000000     7.600000   28.000000\n",
       "25%     249.750000   103.000000     7.700000   71.000000\n",
       "50%     499.500000   119.000000     7.900000   79.000000\n",
       "75%     749.250000   137.000000     8.100000   87.000000\n",
       "max     999.000000   321.000000     9.300000  100.000000"
      ]
     },
     "execution_count": 7,
     "metadata": {},
     "output_type": "execute_result"
    }
   ],
   "source": [
    "# How to find basic statistical details like mean, std, percentile etc. ?\n",
    "# It can only be used for the columns which have int or float datatype.\n",
    "IMDB.describe()"
   ]
  },
  {
   "cell_type": "code",
   "execution_count": 8,
   "metadata": {},
   "outputs": [
    {
     "data": {
      "text/html": [
       "<div>\n",
       "<style scoped>\n",
       "    .dataframe tbody tr th:only-of-type {\n",
       "        vertical-align: middle;\n",
       "    }\n",
       "\n",
       "    .dataframe tbody tr th {\n",
       "        vertical-align: top;\n",
       "    }\n",
       "\n",
       "    .dataframe thead th {\n",
       "        text-align: right;\n",
       "    }\n",
       "</style>\n",
       "<table border=\"1\" class=\"dataframe\">\n",
       "  <thead>\n",
       "    <tr style=\"text-align: right;\">\n",
       "      <th></th>\n",
       "      <th>S.No.</th>\n",
       "      <th>name</th>\n",
       "      <th>year</th>\n",
       "      <th>runtime</th>\n",
       "      <th>genre</th>\n",
       "      <th>rating</th>\n",
       "      <th>metascore</th>\n",
       "      <th>timeline</th>\n",
       "      <th>votes</th>\n",
       "      <th>gross</th>\n",
       "    </tr>\n",
       "  </thead>\n",
       "  <tbody>\n",
       "    <tr>\n",
       "      <th>count</th>\n",
       "      <td>1000.000000</td>\n",
       "      <td>1000</td>\n",
       "      <td>1000</td>\n",
       "      <td>1000.000000</td>\n",
       "      <td>1000</td>\n",
       "      <td>1000.000000</td>\n",
       "      <td>841.000000</td>\n",
       "      <td>1000</td>\n",
       "      <td>1000</td>\n",
       "      <td>829</td>\n",
       "    </tr>\n",
       "    <tr>\n",
       "      <th>unique</th>\n",
       "      <td>NaN</td>\n",
       "      <td>997</td>\n",
       "      <td>118</td>\n",
       "      <td>NaN</td>\n",
       "      <td>203</td>\n",
       "      <td>NaN</td>\n",
       "      <td>NaN</td>\n",
       "      <td>1000</td>\n",
       "      <td>999</td>\n",
       "      <td>729</td>\n",
       "    </tr>\n",
       "    <tr>\n",
       "      <th>top</th>\n",
       "      <td>NaN</td>\n",
       "      <td>Drishyam</td>\n",
       "      <td>2004</td>\n",
       "      <td>NaN</td>\n",
       "      <td>Drama</td>\n",
       "      <td>NaN</td>\n",
       "      <td>NaN</td>\n",
       "      <td>The Clock family are four-inch-tall people who...</td>\n",
       "      <td>74,776</td>\n",
       "      <td>$0.01M</td>\n",
       "    </tr>\n",
       "    <tr>\n",
       "      <th>freq</th>\n",
       "      <td>NaN</td>\n",
       "      <td>2</td>\n",
       "      <td>30</td>\n",
       "      <td>NaN</td>\n",
       "      <td>88</td>\n",
       "      <td>NaN</td>\n",
       "      <td>NaN</td>\n",
       "      <td>1</td>\n",
       "      <td>2</td>\n",
       "      <td>8</td>\n",
       "    </tr>\n",
       "    <tr>\n",
       "      <th>mean</th>\n",
       "      <td>499.500000</td>\n",
       "      <td>NaN</td>\n",
       "      <td>NaN</td>\n",
       "      <td>123.017000</td>\n",
       "      <td>NaN</td>\n",
       "      <td>7.954000</td>\n",
       "      <td>78.158145</td>\n",
       "      <td>NaN</td>\n",
       "      <td>NaN</td>\n",
       "      <td>NaN</td>\n",
       "    </tr>\n",
       "    <tr>\n",
       "      <th>std</th>\n",
       "      <td>288.819436</td>\n",
       "      <td>NaN</td>\n",
       "      <td>NaN</td>\n",
       "      <td>28.212598</td>\n",
       "      <td>NaN</td>\n",
       "      <td>0.276008</td>\n",
       "      <td>12.289270</td>\n",
       "      <td>NaN</td>\n",
       "      <td>NaN</td>\n",
       "      <td>NaN</td>\n",
       "    </tr>\n",
       "    <tr>\n",
       "      <th>min</th>\n",
       "      <td>0.000000</td>\n",
       "      <td>NaN</td>\n",
       "      <td>NaN</td>\n",
       "      <td>45.000000</td>\n",
       "      <td>NaN</td>\n",
       "      <td>7.600000</td>\n",
       "      <td>28.000000</td>\n",
       "      <td>NaN</td>\n",
       "      <td>NaN</td>\n",
       "      <td>NaN</td>\n",
       "    </tr>\n",
       "    <tr>\n",
       "      <th>25%</th>\n",
       "      <td>249.750000</td>\n",
       "      <td>NaN</td>\n",
       "      <td>NaN</td>\n",
       "      <td>103.000000</td>\n",
       "      <td>NaN</td>\n",
       "      <td>7.700000</td>\n",
       "      <td>71.000000</td>\n",
       "      <td>NaN</td>\n",
       "      <td>NaN</td>\n",
       "      <td>NaN</td>\n",
       "    </tr>\n",
       "    <tr>\n",
       "      <th>50%</th>\n",
       "      <td>499.500000</td>\n",
       "      <td>NaN</td>\n",
       "      <td>NaN</td>\n",
       "      <td>119.000000</td>\n",
       "      <td>NaN</td>\n",
       "      <td>7.900000</td>\n",
       "      <td>79.000000</td>\n",
       "      <td>NaN</td>\n",
       "      <td>NaN</td>\n",
       "      <td>NaN</td>\n",
       "    </tr>\n",
       "    <tr>\n",
       "      <th>75%</th>\n",
       "      <td>749.250000</td>\n",
       "      <td>NaN</td>\n",
       "      <td>NaN</td>\n",
       "      <td>137.000000</td>\n",
       "      <td>NaN</td>\n",
       "      <td>8.100000</td>\n",
       "      <td>87.000000</td>\n",
       "      <td>NaN</td>\n",
       "      <td>NaN</td>\n",
       "      <td>NaN</td>\n",
       "    </tr>\n",
       "    <tr>\n",
       "      <th>max</th>\n",
       "      <td>999.000000</td>\n",
       "      <td>NaN</td>\n",
       "      <td>NaN</td>\n",
       "      <td>321.000000</td>\n",
       "      <td>NaN</td>\n",
       "      <td>9.300000</td>\n",
       "      <td>100.000000</td>\n",
       "      <td>NaN</td>\n",
       "      <td>NaN</td>\n",
       "      <td>NaN</td>\n",
       "    </tr>\n",
       "  </tbody>\n",
       "</table>\n",
       "</div>"
      ],
      "text/plain": [
       "              S.No.      name  year      runtime  genre       rating  \\\n",
       "count   1000.000000      1000  1000  1000.000000   1000  1000.000000   \n",
       "unique          NaN       997   118          NaN    203          NaN   \n",
       "top             NaN  Drishyam  2004          NaN  Drama          NaN   \n",
       "freq            NaN         2    30          NaN     88          NaN   \n",
       "mean     499.500000       NaN   NaN   123.017000    NaN     7.954000   \n",
       "std      288.819436       NaN   NaN    28.212598    NaN     0.276008   \n",
       "min        0.000000       NaN   NaN    45.000000    NaN     7.600000   \n",
       "25%      249.750000       NaN   NaN   103.000000    NaN     7.700000   \n",
       "50%      499.500000       NaN   NaN   119.000000    NaN     7.900000   \n",
       "75%      749.250000       NaN   NaN   137.000000    NaN     8.100000   \n",
       "max      999.000000       NaN   NaN   321.000000    NaN     9.300000   \n",
       "\n",
       "         metascore                                           timeline   votes  \\\n",
       "count   841.000000                                               1000    1000   \n",
       "unique         NaN                                               1000     999   \n",
       "top            NaN  The Clock family are four-inch-tall people who...  74,776   \n",
       "freq           NaN                                                  1       2   \n",
       "mean     78.158145                                                NaN     NaN   \n",
       "std      12.289270                                                NaN     NaN   \n",
       "min      28.000000                                                NaN     NaN   \n",
       "25%      71.000000                                                NaN     NaN   \n",
       "50%      79.000000                                                NaN     NaN   \n",
       "75%      87.000000                                                NaN     NaN   \n",
       "max     100.000000                                                NaN     NaN   \n",
       "\n",
       "         gross  \n",
       "count      829  \n",
       "unique     729  \n",
       "top     $0.01M  \n",
       "freq         8  \n",
       "mean       NaN  \n",
       "std        NaN  \n",
       "min        NaN  \n",
       "25%        NaN  \n",
       "50%        NaN  \n",
       "75%        NaN  \n",
       "max        NaN  "
      ]
     },
     "execution_count": 8,
     "metadata": {},
     "output_type": "execute_result"
    }
   ],
   "source": [
    "# It is used to print the statistical details of all the columns \n",
    "IMDB.describe(include = 'all')"
   ]
  },
  {
   "cell_type": "code",
   "execution_count": 9,
   "metadata": {},
   "outputs": [
    {
     "data": {
      "text/plain": [
       "Index(['S.No.', 'name', 'year', 'runtime', 'genre', 'rating', 'metascore',\n",
       "       'timeline', 'votes', 'gross'],\n",
       "      dtype='object')"
      ]
     },
     "execution_count": 9,
     "metadata": {},
     "output_type": "execute_result"
    }
   ],
   "source": [
    "# How to print the names of the columns in a dataset ?\n",
    "IMDB.columns"
   ]
  },
  {
   "cell_type": "code",
   "execution_count": 10,
   "metadata": {},
   "outputs": [
    {
     "data": {
      "text/plain": [
       "array([[0, 'The Shawshank Redemption', '1994', ...,\n",
       "        'Two imprisoned men bond over a number of years, finding solace and eventual redemption through acts of common decency.',\n",
       "        '23,94,059', '$28.34M'],\n",
       "       [1, 'The Godfather', '1972', ...,\n",
       "        \"An organized crime dynasty's aging patriarch transfers control of his clandestine empire to his reluctant son.\",\n",
       "        '16,58,439', '$134.97M'],\n",
       "       [2, 'Soorarai Pottru', '2020', ...,\n",
       "        'Nedumaaran Rajangam \"Maara\" sets out to make the common man fly and in the process takes on the world\\'s most capital intensive industry and several enemies who stand in his way.',\n",
       "        '78,266', nan],\n",
       "       ...,\n",
       "       [997, 'Shane', '1953', ...,\n",
       "        'A weary gunfighter attempts to settle down with a homestead family, but a smoldering settler/rancher conflict forces him to act.',\n",
       "        '37,753', '$20.00M'],\n",
       "       [998, 'From Here to Eternity', '1953', ...,\n",
       "        \"In Hawaii in 1941, a private is cruelly punished for not boxing on his unit's team, while his captain's wife and second-in-command are falling in love.\",\n",
       "        '44,086', '$30.50M'],\n",
       "       [999, 'Lifeboat', '1944', ...,\n",
       "        'Several survivors of a torpedoed merchant ship in World War II find themselves in the same lifeboat with one of the crew members of the U-boat that sank their ship.',\n",
       "        '26,903', nan]], dtype=object)"
      ]
     },
     "execution_count": 10,
     "metadata": {},
     "output_type": "execute_result"
    }
   ],
   "source": [
    "# It returns a numpy array with the underlying data of the DataFrame, without any index or columns names.\n",
    "IMDB.values"
   ]
  },
  {
   "cell_type": "code",
   "execution_count": 11,
   "metadata": {},
   "outputs": [],
   "source": [
    "# How to set a column as index ?\n",
    "IMDB.set_index('S.No.',inplace=True)"
   ]
  },
  {
   "cell_type": "code",
   "execution_count": 12,
   "metadata": {},
   "outputs": [
    {
     "data": {
      "text/html": [
       "<div>\n",
       "<style scoped>\n",
       "    .dataframe tbody tr th:only-of-type {\n",
       "        vertical-align: middle;\n",
       "    }\n",
       "\n",
       "    .dataframe tbody tr th {\n",
       "        vertical-align: top;\n",
       "    }\n",
       "\n",
       "    .dataframe thead th {\n",
       "        text-align: right;\n",
       "    }\n",
       "</style>\n",
       "<table border=\"1\" class=\"dataframe\">\n",
       "  <thead>\n",
       "    <tr style=\"text-align: right;\">\n",
       "      <th></th>\n",
       "      <th>name</th>\n",
       "      <th>year</th>\n",
       "      <th>runtime</th>\n",
       "      <th>genre</th>\n",
       "      <th>rating</th>\n",
       "      <th>metascore</th>\n",
       "      <th>timeline</th>\n",
       "      <th>votes</th>\n",
       "      <th>gross</th>\n",
       "    </tr>\n",
       "    <tr>\n",
       "      <th>S.No.</th>\n",
       "      <th></th>\n",
       "      <th></th>\n",
       "      <th></th>\n",
       "      <th></th>\n",
       "      <th></th>\n",
       "      <th></th>\n",
       "      <th></th>\n",
       "      <th></th>\n",
       "      <th></th>\n",
       "    </tr>\n",
       "  </thead>\n",
       "  <tbody>\n",
       "    <tr>\n",
       "      <th>0</th>\n",
       "      <td>The Shawshank Redemption</td>\n",
       "      <td>1994</td>\n",
       "      <td>142</td>\n",
       "      <td>Drama</td>\n",
       "      <td>9.3</td>\n",
       "      <td>80.0</td>\n",
       "      <td>Two imprisoned men bond over a number of years...</td>\n",
       "      <td>23,94,059</td>\n",
       "      <td>$28.34M</td>\n",
       "    </tr>\n",
       "    <tr>\n",
       "      <th>1</th>\n",
       "      <td>The Godfather</td>\n",
       "      <td>1972</td>\n",
       "      <td>175</td>\n",
       "      <td>Crime, Drama</td>\n",
       "      <td>9.2</td>\n",
       "      <td>100.0</td>\n",
       "      <td>An organized crime dynasty's aging patriarch t...</td>\n",
       "      <td>16,58,439</td>\n",
       "      <td>$134.97M</td>\n",
       "    </tr>\n",
       "    <tr>\n",
       "      <th>2</th>\n",
       "      <td>Soorarai Pottru</td>\n",
       "      <td>2020</td>\n",
       "      <td>153</td>\n",
       "      <td>Drama</td>\n",
       "      <td>9.1</td>\n",
       "      <td>NaN</td>\n",
       "      <td>Nedumaaran Rajangam \"Maara\" sets out to make t...</td>\n",
       "      <td>78,266</td>\n",
       "      <td>NaN</td>\n",
       "    </tr>\n",
       "    <tr>\n",
       "      <th>3</th>\n",
       "      <td>The Dark Knight</td>\n",
       "      <td>2008</td>\n",
       "      <td>152</td>\n",
       "      <td>Action, Crime, Drama</td>\n",
       "      <td>9.0</td>\n",
       "      <td>84.0</td>\n",
       "      <td>When the menace known as the Joker wreaks havo...</td>\n",
       "      <td>23,55,907</td>\n",
       "      <td>$534.86M</td>\n",
       "    </tr>\n",
       "    <tr>\n",
       "      <th>4</th>\n",
       "      <td>The Godfather: Part II</td>\n",
       "      <td>1974</td>\n",
       "      <td>202</td>\n",
       "      <td>Crime, Drama</td>\n",
       "      <td>9.0</td>\n",
       "      <td>90.0</td>\n",
       "      <td>The early life and career of Vito Corleone in ...</td>\n",
       "      <td>11,52,912</td>\n",
       "      <td>$57.30M</td>\n",
       "    </tr>\n",
       "  </tbody>\n",
       "</table>\n",
       "</div>"
      ],
      "text/plain": [
       "                           name  year  runtime                 genre  rating  \\\n",
       "S.No.                                                                          \n",
       "0      The Shawshank Redemption  1994      142                 Drama     9.3   \n",
       "1                 The Godfather  1972      175          Crime, Drama     9.2   \n",
       "2               Soorarai Pottru  2020      153                 Drama     9.1   \n",
       "3               The Dark Knight  2008      152  Action, Crime, Drama     9.0   \n",
       "4        The Godfather: Part II  1974      202          Crime, Drama     9.0   \n",
       "\n",
       "       metascore                                           timeline  \\\n",
       "S.No.                                                                 \n",
       "0           80.0  Two imprisoned men bond over a number of years...   \n",
       "1          100.0  An organized crime dynasty's aging patriarch t...   \n",
       "2            NaN  Nedumaaran Rajangam \"Maara\" sets out to make t...   \n",
       "3           84.0  When the menace known as the Joker wreaks havo...   \n",
       "4           90.0  The early life and career of Vito Corleone in ...   \n",
       "\n",
       "           votes     gross  \n",
       "S.No.                       \n",
       "0      23,94,059   $28.34M  \n",
       "1      16,58,439  $134.97M  \n",
       "2         78,266       NaN  \n",
       "3      23,55,907  $534.86M  \n",
       "4      11,52,912   $57.30M  "
      ]
     },
     "execution_count": 12,
     "metadata": {},
     "output_type": "execute_result"
    }
   ],
   "source": [
    "# To show the index has been set to 'S.No.'\n",
    "IMDB.head()"
   ]
  },
  {
   "cell_type": "code",
   "execution_count": 13,
   "metadata": {},
   "outputs": [
    {
     "data": {
      "text/plain": [
       "(1000, 9)"
      ]
     },
     "execution_count": 13,
     "metadata": {},
     "output_type": "execute_result"
    }
   ],
   "source": [
    "# To show that the number of columns have reduced to 9 from 10 as we have set 'S.No.' as the index.\n",
    "IMDB.shape"
   ]
  },
  {
   "cell_type": "markdown",
   "metadata": {},
   "source": [
    "## DATA CLEANING"
   ]
  },
  {
   "cell_type": "code",
   "execution_count": 14,
   "metadata": {},
   "outputs": [
    {
     "data": {
      "text/plain": [
       "S.No.\n",
       "0      False\n",
       "1      False\n",
       "2      False\n",
       "3      False\n",
       "4      False\n",
       "       ...  \n",
       "995    False\n",
       "996    False\n",
       "997    False\n",
       "998    False\n",
       "999    False\n",
       "Length: 1000, dtype: bool"
      ]
     },
     "execution_count": 14,
     "metadata": {},
     "output_type": "execute_result"
    }
   ],
   "source": [
    "# How to check if the dataset has any duplicate rows ?\n",
    "IMDB.duplicated()"
   ]
  },
  {
   "cell_type": "code",
   "execution_count": 15,
   "metadata": {},
   "outputs": [
    {
     "data": {
      "text/plain": [
       "0"
      ]
     },
     "execution_count": 15,
     "metadata": {},
     "output_type": "execute_result"
    }
   ],
   "source": [
    "# To count the number of duplicate rows.\n",
    "sum(IMDB.duplicated())"
   ]
  },
  {
   "cell_type": "code",
   "execution_count": 16,
   "metadata": {},
   "outputs": [
    {
     "data": {
      "text/plain": [
       "330"
      ]
     },
     "execution_count": 16,
     "metadata": {},
     "output_type": "execute_result"
    }
   ],
   "source": [
    "# How to check for total number of null values (i.e. across the rows as well as columns) ?\n",
    "IMDB.isnull().sum().sum()"
   ]
  },
  {
   "cell_type": "code",
   "execution_count": 17,
   "metadata": {},
   "outputs": [
    {
     "data": {
      "text/plain": [
       "name           0\n",
       "year           0\n",
       "runtime        0\n",
       "genre          0\n",
       "rating         0\n",
       "metascore    159\n",
       "timeline       0\n",
       "votes          0\n",
       "gross        171\n",
       "dtype: int64"
      ]
     },
     "execution_count": 17,
     "metadata": {},
     "output_type": "execute_result"
    }
   ],
   "source": [
    "# How to check for total number of null values in columns ?\n",
    "IMDB.isnull().sum(axis=0)"
   ]
  },
  {
   "cell_type": "code",
   "execution_count": 18,
   "metadata": {},
   "outputs": [
    {
     "data": {
      "text/plain": [
       "S.No.\n",
       "0      0\n",
       "1      0\n",
       "2      2\n",
       "3      0\n",
       "4      0\n",
       "      ..\n",
       "995    1\n",
       "996    1\n",
       "997    0\n",
       "998    0\n",
       "999    1\n",
       "Length: 1000, dtype: int64"
      ]
     },
     "execution_count": 18,
     "metadata": {},
     "output_type": "execute_result"
    }
   ],
   "source": [
    "# How to check for total number of null values in rows ?\n",
    "IMDB.isnull().sum(axis=1)"
   ]
  },
  {
   "cell_type": "code",
   "execution_count": 19,
   "metadata": {},
   "outputs": [
    {
     "data": {
      "text/plain": [
       "name          0.0\n",
       "year          0.0\n",
       "runtime       0.0\n",
       "genre         0.0\n",
       "rating        0.0\n",
       "metascore    15.9\n",
       "timeline      0.0\n",
       "votes         0.0\n",
       "gross        17.1\n",
       "dtype: float64"
      ]
     },
     "execution_count": 19,
     "metadata": {},
     "output_type": "execute_result"
    }
   ],
   "source": [
    "# How to check for the percentage of null values in each column ?\n",
    "round(IMDB.isnull().sum(axis=0)/len(IMDB)*100,2)"
   ]
  },
  {
   "cell_type": "code",
   "execution_count": 20,
   "metadata": {},
   "outputs": [],
   "source": [
    "# From the above output we observe that 'metascore' and 'gross' are the only two columns with null/missing values. \n",
    "# Further we observe that 'gross' has more null values than 'metascore'."
   ]
  },
  {
   "cell_type": "code",
   "execution_count": 21,
   "metadata": {},
   "outputs": [
    {
     "data": {
      "text/plain": [
       "S.No.\n",
       "0      0.0\n",
       "1      0.0\n",
       "2      0.2\n",
       "3      0.0\n",
       "4      0.0\n",
       "      ... \n",
       "995    0.1\n",
       "996    0.1\n",
       "997    0.0\n",
       "998    0.0\n",
       "999    0.1\n",
       "Length: 1000, dtype: float64"
      ]
     },
     "execution_count": 21,
     "metadata": {},
     "output_type": "execute_result"
    }
   ],
   "source": [
    "# How to check for the percentage of null values in each row ?\n",
    "round(IMDB.isnull().sum(axis=1)/len(IMDB)*100,2)"
   ]
  },
  {
   "cell_type": "code",
   "execution_count": 22,
   "metadata": {},
   "outputs": [
    {
     "data": {
      "text/html": [
       "<div>\n",
       "<style scoped>\n",
       "    .dataframe tbody tr th:only-of-type {\n",
       "        vertical-align: middle;\n",
       "    }\n",
       "\n",
       "    .dataframe tbody tr th {\n",
       "        vertical-align: top;\n",
       "    }\n",
       "\n",
       "    .dataframe thead th {\n",
       "        text-align: right;\n",
       "    }\n",
       "</style>\n",
       "<table border=\"1\" class=\"dataframe\">\n",
       "  <thead>\n",
       "    <tr style=\"text-align: right;\">\n",
       "      <th></th>\n",
       "      <th>name</th>\n",
       "      <th>year</th>\n",
       "      <th>runtime</th>\n",
       "      <th>genre</th>\n",
       "      <th>rating</th>\n",
       "      <th>metascore</th>\n",
       "      <th>timeline</th>\n",
       "      <th>votes</th>\n",
       "      <th>gross</th>\n",
       "    </tr>\n",
       "    <tr>\n",
       "      <th>S.No.</th>\n",
       "      <th></th>\n",
       "      <th></th>\n",
       "      <th></th>\n",
       "      <th></th>\n",
       "      <th></th>\n",
       "      <th></th>\n",
       "      <th></th>\n",
       "      <th></th>\n",
       "      <th></th>\n",
       "    </tr>\n",
       "  </thead>\n",
       "  <tbody>\n",
       "  </tbody>\n",
       "</table>\n",
       "</div>"
      ],
      "text/plain": [
       "Empty DataFrame\n",
       "Columns: [name, year, runtime, genre, rating, metascore, timeline, votes, gross]\n",
       "Index: []"
      ]
     },
     "execution_count": 22,
     "metadata": {},
     "output_type": "execute_result"
    }
   ],
   "source": [
    "# How to check if there is more than 2 null values across each column ?\n",
    "IMDB[IMDB.isnull().sum(axis=1) > 2]"
   ]
  },
  {
   "cell_type": "code",
   "execution_count": 23,
   "metadata": {},
   "outputs": [],
   "source": [
    "# Therefore we don't have more than two null values in any row."
   ]
  },
  {
   "cell_type": "code",
   "execution_count": 24,
   "metadata": {},
   "outputs": [],
   "source": [
    "# How to create a dataframe for a csv file ?\n",
    "df = pd.DataFrame(IMDB)"
   ]
  },
  {
   "cell_type": "code",
   "execution_count": 25,
   "metadata": {},
   "outputs": [
    {
     "name": "stdout",
     "output_type": "stream",
     "text": [
      "                           name  year  runtime                         genre  \\\n",
      "S.No.                                                                          \n",
      "0      The Shawshank Redemption  1994      142                         Drama   \n",
      "1                 The Godfather  1972      175                  Crime, Drama   \n",
      "3               The Dark Knight  2008      152          Action, Crime, Drama   \n",
      "4        The Godfather: Part II  1974      202                  Crime, Drama   \n",
      "5                  12 Angry Men  1957       96                  Crime, Drama   \n",
      "...                         ...   ...      ...                           ...   \n",
      "991              Kelly's Heroes  1970      144        Adventure, Comedy, War   \n",
      "993             The Jungle Book  1967       78  Animation, Adventure, Family   \n",
      "994          A Hard Day's Night  1964       87               Comedy, Musical   \n",
      "997                       Shane  1953      118                Drama, Western   \n",
      "998       From Here to Eternity  1953      118           Drama, Romance, War   \n",
      "\n",
      "       rating  metascore                                           timeline  \\\n",
      "S.No.                                                                         \n",
      "0         9.3       80.0  Two imprisoned men bond over a number of years...   \n",
      "1         9.2      100.0  An organized crime dynasty's aging patriarch t...   \n",
      "3         9.0       84.0  When the menace known as the Joker wreaks havo...   \n",
      "4         9.0       90.0  The early life and career of Vito Corleone in ...   \n",
      "5         9.0       96.0  A jury holdout attempts to prevent a miscarria...   \n",
      "...       ...        ...                                                ...   \n",
      "991       7.6       50.0  A group of U.S. soldiers sneaks across enemy l...   \n",
      "993       7.6       65.0  Bagheera the Panther and Baloo the Bear have a...   \n",
      "994       7.6       96.0  Over two \"typical\" days in the life of The Bea...   \n",
      "997       7.6       80.0  A weary gunfighter attempts to settle down wit...   \n",
      "998       7.6       85.0  In Hawaii in 1941, a private is cruelly punish...   \n",
      "\n",
      "           votes     gross  \n",
      "S.No.                       \n",
      "0      23,94,059   $28.34M  \n",
      "1      16,58,439  $134.97M  \n",
      "3      23,55,907  $534.86M  \n",
      "4      11,52,912   $57.30M  \n",
      "5       7,06,079    $4.36M  \n",
      "...          ...       ...  \n",
      "991       45,985    $1.38M  \n",
      "993     1,68,985  $141.84M  \n",
      "994       40,931   $13.78M  \n",
      "997       37,753   $20.00M  \n",
      "998       44,086   $30.50M  \n",
      "\n",
      "[747 rows x 9 columns]\n"
     ]
    }
   ],
   "source": [
    "# Here Clean_data is the dataset we obtain after dropping all the null values.\n",
    "Clean_data = df.dropna()\n",
    "print(Clean_data)"
   ]
  },
  {
   "cell_type": "code",
   "execution_count": 26,
   "metadata": {},
   "outputs": [],
   "source": [
    "# Here we dropped the rows with missing/null values  \n",
    "# This is because we cannot manually input data into the csv files as it is a tedious task."
   ]
  },
  {
   "cell_type": "markdown",
   "metadata": {},
   "source": [
    "<h3> Changing the names of the columns</h3>"
   ]
  },
  {
   "cell_type": "code",
   "execution_count": 27,
   "metadata": {},
   "outputs": [
    {
     "name": "stdout",
     "output_type": "stream",
     "text": [
      "                           Name Year of release  Runtime  \\\n",
      "S.No.                                                      \n",
      "0      The Shawshank Redemption            1994      142   \n",
      "1                 The Godfather            1972      175   \n",
      "3               The Dark Knight            2008      152   \n",
      "4        The Godfather: Part II            1974      202   \n",
      "5                  12 Angry Men            1957       96   \n",
      "...                         ...             ...      ...   \n",
      "991              Kelly's Heroes            1970      144   \n",
      "993             The Jungle Book            1967       78   \n",
      "994          A Hard Day's Night            1964       87   \n",
      "997                       Shane            1953      118   \n",
      "998       From Here to Eternity            1953      118   \n",
      "\n",
      "                              Genre  Rating  Metascore  \\\n",
      "S.No.                                                    \n",
      "0                             Drama     9.3       80.0   \n",
      "1                      Crime, Drama     9.2      100.0   \n",
      "3              Action, Crime, Drama     9.0       84.0   \n",
      "4                      Crime, Drama     9.0       90.0   \n",
      "5                      Crime, Drama     9.0       96.0   \n",
      "...                             ...     ...        ...   \n",
      "991          Adventure, Comedy, War     7.6       50.0   \n",
      "993    Animation, Adventure, Family     7.6       65.0   \n",
      "994                 Comedy, Musical     7.6       96.0   \n",
      "997                  Drama, Western     7.6       80.0   \n",
      "998             Drama, Romance, War     7.6       85.0   \n",
      "\n",
      "                                                Timeline      Votes  \\\n",
      "S.No.                                                                 \n",
      "0      Two imprisoned men bond over a number of years...  23,94,059   \n",
      "1      An organized crime dynasty's aging patriarch t...  16,58,439   \n",
      "3      When the menace known as the Joker wreaks havo...  23,55,907   \n",
      "4      The early life and career of Vito Corleone in ...  11,52,912   \n",
      "5      A jury holdout attempts to prevent a miscarria...   7,06,079   \n",
      "...                                                  ...        ...   \n",
      "991    A group of U.S. soldiers sneaks across enemy l...     45,985   \n",
      "993    Bagheera the Panther and Baloo the Bear have a...   1,68,985   \n",
      "994    Over two \"typical\" days in the life of The Bea...     40,931   \n",
      "997    A weary gunfighter attempts to settle down wit...     37,753   \n",
      "998    In Hawaii in 1941, a private is cruelly punish...     44,086   \n",
      "\n",
      "      Box_office_collection  \n",
      "S.No.                        \n",
      "0                   $28.34M  \n",
      "1                  $134.97M  \n",
      "3                  $534.86M  \n",
      "4                   $57.30M  \n",
      "5                    $4.36M  \n",
      "...                     ...  \n",
      "991                  $1.38M  \n",
      "993                $141.84M  \n",
      "994                 $13.78M  \n",
      "997                 $20.00M  \n",
      "998                 $30.50M  \n",
      "\n",
      "[747 rows x 9 columns]\n"
     ]
    }
   ],
   "source": [
    "# How to rename the axis of the dataset ?\n",
    "new_data = Clean_data.rename(columns={'name':'Name','year':'Year of release','runtime':'Runtime','genre':'Genre','rating':'Rating','metascore':'Metascore','timeline':'Timeline','votes':'Votes','gross':'Box_office_collection'})\n",
    "print(new_data)"
   ]
  },
  {
   "cell_type": "code",
   "execution_count": 28,
   "metadata": {},
   "outputs": [
    {
     "data": {
      "text/html": [
       "<div>\n",
       "<style scoped>\n",
       "    .dataframe tbody tr th:only-of-type {\n",
       "        vertical-align: middle;\n",
       "    }\n",
       "\n",
       "    .dataframe tbody tr th {\n",
       "        vertical-align: top;\n",
       "    }\n",
       "\n",
       "    .dataframe thead th {\n",
       "        text-align: right;\n",
       "    }\n",
       "</style>\n",
       "<table border=\"1\" class=\"dataframe\">\n",
       "  <thead>\n",
       "    <tr style=\"text-align: right;\">\n",
       "      <th></th>\n",
       "      <th>Name</th>\n",
       "      <th>Year of release</th>\n",
       "      <th>Runtime</th>\n",
       "      <th>Genre</th>\n",
       "      <th>Rating</th>\n",
       "      <th>Metascore</th>\n",
       "      <th>Timeline</th>\n",
       "      <th>Votes</th>\n",
       "      <th>Box_office_collection</th>\n",
       "    </tr>\n",
       "    <tr>\n",
       "      <th>S.No.</th>\n",
       "      <th></th>\n",
       "      <th></th>\n",
       "      <th></th>\n",
       "      <th></th>\n",
       "      <th></th>\n",
       "      <th></th>\n",
       "      <th></th>\n",
       "      <th></th>\n",
       "      <th></th>\n",
       "    </tr>\n",
       "  </thead>\n",
       "  <tbody>\n",
       "    <tr>\n",
       "      <th>0</th>\n",
       "      <td>The Shawshank Redemption</td>\n",
       "      <td>1994</td>\n",
       "      <td>142</td>\n",
       "      <td>Drama</td>\n",
       "      <td>9.3</td>\n",
       "      <td>80.0</td>\n",
       "      <td>Two imprisoned men bond over a number of years...</td>\n",
       "      <td>23,94,059</td>\n",
       "      <td>$28.34M</td>\n",
       "    </tr>\n",
       "    <tr>\n",
       "      <th>1</th>\n",
       "      <td>The Godfather</td>\n",
       "      <td>1972</td>\n",
       "      <td>175</td>\n",
       "      <td>Crime, Drama</td>\n",
       "      <td>9.2</td>\n",
       "      <td>100.0</td>\n",
       "      <td>An organized crime dynasty's aging patriarch t...</td>\n",
       "      <td>16,58,439</td>\n",
       "      <td>$134.97M</td>\n",
       "    </tr>\n",
       "    <tr>\n",
       "      <th>3</th>\n",
       "      <td>The Dark Knight</td>\n",
       "      <td>2008</td>\n",
       "      <td>152</td>\n",
       "      <td>Action, Crime, Drama</td>\n",
       "      <td>9.0</td>\n",
       "      <td>84.0</td>\n",
       "      <td>When the menace known as the Joker wreaks havo...</td>\n",
       "      <td>23,55,907</td>\n",
       "      <td>$534.86M</td>\n",
       "    </tr>\n",
       "    <tr>\n",
       "      <th>4</th>\n",
       "      <td>The Godfather: Part II</td>\n",
       "      <td>1974</td>\n",
       "      <td>202</td>\n",
       "      <td>Crime, Drama</td>\n",
       "      <td>9.0</td>\n",
       "      <td>90.0</td>\n",
       "      <td>The early life and career of Vito Corleone in ...</td>\n",
       "      <td>11,52,912</td>\n",
       "      <td>$57.30M</td>\n",
       "    </tr>\n",
       "    <tr>\n",
       "      <th>5</th>\n",
       "      <td>12 Angry Men</td>\n",
       "      <td>1957</td>\n",
       "      <td>96</td>\n",
       "      <td>Crime, Drama</td>\n",
       "      <td>9.0</td>\n",
       "      <td>96.0</td>\n",
       "      <td>A jury holdout attempts to prevent a miscarria...</td>\n",
       "      <td>7,06,079</td>\n",
       "      <td>$4.36M</td>\n",
       "    </tr>\n",
       "    <tr>\n",
       "      <th>...</th>\n",
       "      <td>...</td>\n",
       "      <td>...</td>\n",
       "      <td>...</td>\n",
       "      <td>...</td>\n",
       "      <td>...</td>\n",
       "      <td>...</td>\n",
       "      <td>...</td>\n",
       "      <td>...</td>\n",
       "      <td>...</td>\n",
       "    </tr>\n",
       "    <tr>\n",
       "      <th>991</th>\n",
       "      <td>Kelly's Heroes</td>\n",
       "      <td>1970</td>\n",
       "      <td>144</td>\n",
       "      <td>Adventure, Comedy, War</td>\n",
       "      <td>7.6</td>\n",
       "      <td>50.0</td>\n",
       "      <td>A group of U.S. soldiers sneaks across enemy l...</td>\n",
       "      <td>45,985</td>\n",
       "      <td>$1.38M</td>\n",
       "    </tr>\n",
       "    <tr>\n",
       "      <th>993</th>\n",
       "      <td>The Jungle Book</td>\n",
       "      <td>1967</td>\n",
       "      <td>78</td>\n",
       "      <td>Animation, Adventure, Family</td>\n",
       "      <td>7.6</td>\n",
       "      <td>65.0</td>\n",
       "      <td>Bagheera the Panther and Baloo the Bear have a...</td>\n",
       "      <td>1,68,985</td>\n",
       "      <td>$141.84M</td>\n",
       "    </tr>\n",
       "    <tr>\n",
       "      <th>994</th>\n",
       "      <td>A Hard Day's Night</td>\n",
       "      <td>1964</td>\n",
       "      <td>87</td>\n",
       "      <td>Comedy, Musical</td>\n",
       "      <td>7.6</td>\n",
       "      <td>96.0</td>\n",
       "      <td>Over two \"typical\" days in the life of The Bea...</td>\n",
       "      <td>40,931</td>\n",
       "      <td>$13.78M</td>\n",
       "    </tr>\n",
       "    <tr>\n",
       "      <th>997</th>\n",
       "      <td>Shane</td>\n",
       "      <td>1953</td>\n",
       "      <td>118</td>\n",
       "      <td>Drama, Western</td>\n",
       "      <td>7.6</td>\n",
       "      <td>80.0</td>\n",
       "      <td>A weary gunfighter attempts to settle down wit...</td>\n",
       "      <td>37,753</td>\n",
       "      <td>$20.00M</td>\n",
       "    </tr>\n",
       "    <tr>\n",
       "      <th>998</th>\n",
       "      <td>From Here to Eternity</td>\n",
       "      <td>1953</td>\n",
       "      <td>118</td>\n",
       "      <td>Drama, Romance, War</td>\n",
       "      <td>7.6</td>\n",
       "      <td>85.0</td>\n",
       "      <td>In Hawaii in 1941, a private is cruelly punish...</td>\n",
       "      <td>44,086</td>\n",
       "      <td>$30.50M</td>\n",
       "    </tr>\n",
       "  </tbody>\n",
       "</table>\n",
       "<p>747 rows × 9 columns</p>\n",
       "</div>"
      ],
      "text/plain": [
       "                           Name Year of release  Runtime  \\\n",
       "S.No.                                                      \n",
       "0      The Shawshank Redemption            1994      142   \n",
       "1                 The Godfather            1972      175   \n",
       "3               The Dark Knight            2008      152   \n",
       "4        The Godfather: Part II            1974      202   \n",
       "5                  12 Angry Men            1957       96   \n",
       "...                         ...             ...      ...   \n",
       "991              Kelly's Heroes            1970      144   \n",
       "993             The Jungle Book            1967       78   \n",
       "994          A Hard Day's Night            1964       87   \n",
       "997                       Shane            1953      118   \n",
       "998       From Here to Eternity            1953      118   \n",
       "\n",
       "                              Genre  Rating  Metascore  \\\n",
       "S.No.                                                    \n",
       "0                             Drama     9.3       80.0   \n",
       "1                      Crime, Drama     9.2      100.0   \n",
       "3              Action, Crime, Drama     9.0       84.0   \n",
       "4                      Crime, Drama     9.0       90.0   \n",
       "5                      Crime, Drama     9.0       96.0   \n",
       "...                             ...     ...        ...   \n",
       "991          Adventure, Comedy, War     7.6       50.0   \n",
       "993    Animation, Adventure, Family     7.6       65.0   \n",
       "994                 Comedy, Musical     7.6       96.0   \n",
       "997                  Drama, Western     7.6       80.0   \n",
       "998             Drama, Romance, War     7.6       85.0   \n",
       "\n",
       "                                                Timeline      Votes  \\\n",
       "S.No.                                                                 \n",
       "0      Two imprisoned men bond over a number of years...  23,94,059   \n",
       "1      An organized crime dynasty's aging patriarch t...  16,58,439   \n",
       "3      When the menace known as the Joker wreaks havo...  23,55,907   \n",
       "4      The early life and career of Vito Corleone in ...  11,52,912   \n",
       "5      A jury holdout attempts to prevent a miscarria...   7,06,079   \n",
       "...                                                  ...        ...   \n",
       "991    A group of U.S. soldiers sneaks across enemy l...     45,985   \n",
       "993    Bagheera the Panther and Baloo the Bear have a...   1,68,985   \n",
       "994    Over two \"typical\" days in the life of The Bea...     40,931   \n",
       "997    A weary gunfighter attempts to settle down wit...     37,753   \n",
       "998    In Hawaii in 1941, a private is cruelly punish...     44,086   \n",
       "\n",
       "      Box_office_collection  \n",
       "S.No.                        \n",
       "0                   $28.34M  \n",
       "1                  $134.97M  \n",
       "3                  $534.86M  \n",
       "4                   $57.30M  \n",
       "5                    $4.36M  \n",
       "...                     ...  \n",
       "991                  $1.38M  \n",
       "993                $141.84M  \n",
       "994                 $13.78M  \n",
       "997                 $20.00M  \n",
       "998                 $30.50M  \n",
       "\n",
       "[747 rows x 9 columns]"
      ]
     },
     "execution_count": 28,
     "metadata": {},
     "output_type": "execute_result"
    }
   ],
   "source": [
    "# To make the dataframe of new_data (the clean data).\n",
    "value=pd.DataFrame(new_data)\n",
    "value"
   ]
  },
  {
   "cell_type": "markdown",
   "metadata": {},
   "source": [
    "<h3> Removing special characters from the dataframe</h3>"
   ]
  },
  {
   "cell_type": "code",
   "execution_count": 29,
   "metadata": {},
   "outputs": [],
   "source": [
    "# How to remove special characters from tha dataframe ? \n",
    "value['Votes'] = value['Votes'].str.replace(',', '').astype(float)"
   ]
  },
  {
   "cell_type": "code",
   "execution_count": 30,
   "metadata": {},
   "outputs": [],
   "source": [
    "# How to remove special characters from tha dataframe ? \n",
    "spec_chars = [\"$\",'M']\n",
    "for char in spec_chars:\n",
    "    value['Box_office_collection'] = value['Box_office_collection'].str.replace(char, ' ')"
   ]
  },
  {
   "cell_type": "code",
   "execution_count": 31,
   "metadata": {},
   "outputs": [],
   "source": [
    "value[\"Box_office_collection\"] = pd.to_numeric(value[\"Box_office_collection\"], downcast=\"float\")"
   ]
  },
  {
   "cell_type": "code",
   "execution_count": 32,
   "metadata": {},
   "outputs": [
    {
     "data": {
      "text/html": [
       "<div>\n",
       "<style scoped>\n",
       "    .dataframe tbody tr th:only-of-type {\n",
       "        vertical-align: middle;\n",
       "    }\n",
       "\n",
       "    .dataframe tbody tr th {\n",
       "        vertical-align: top;\n",
       "    }\n",
       "\n",
       "    .dataframe thead th {\n",
       "        text-align: right;\n",
       "    }\n",
       "</style>\n",
       "<table border=\"1\" class=\"dataframe\">\n",
       "  <thead>\n",
       "    <tr style=\"text-align: right;\">\n",
       "      <th></th>\n",
       "      <th>Name</th>\n",
       "      <th>Year of release</th>\n",
       "      <th>Runtime</th>\n",
       "      <th>Genre</th>\n",
       "      <th>Rating</th>\n",
       "      <th>Metascore</th>\n",
       "      <th>Timeline</th>\n",
       "      <th>Votes</th>\n",
       "      <th>Box_office_collection</th>\n",
       "    </tr>\n",
       "    <tr>\n",
       "      <th>S.No.</th>\n",
       "      <th></th>\n",
       "      <th></th>\n",
       "      <th></th>\n",
       "      <th></th>\n",
       "      <th></th>\n",
       "      <th></th>\n",
       "      <th></th>\n",
       "      <th></th>\n",
       "      <th></th>\n",
       "    </tr>\n",
       "  </thead>\n",
       "  <tbody>\n",
       "    <tr>\n",
       "      <th>0</th>\n",
       "      <td>The Shawshank Redemption</td>\n",
       "      <td>1994</td>\n",
       "      <td>142</td>\n",
       "      <td>Drama</td>\n",
       "      <td>9.3</td>\n",
       "      <td>80.0</td>\n",
       "      <td>Two imprisoned men bond over a number of years...</td>\n",
       "      <td>2394059.0</td>\n",
       "      <td>28.340000</td>\n",
       "    </tr>\n",
       "    <tr>\n",
       "      <th>1</th>\n",
       "      <td>The Godfather</td>\n",
       "      <td>1972</td>\n",
       "      <td>175</td>\n",
       "      <td>Crime, Drama</td>\n",
       "      <td>9.2</td>\n",
       "      <td>100.0</td>\n",
       "      <td>An organized crime dynasty's aging patriarch t...</td>\n",
       "      <td>1658439.0</td>\n",
       "      <td>134.970001</td>\n",
       "    </tr>\n",
       "    <tr>\n",
       "      <th>3</th>\n",
       "      <td>The Dark Knight</td>\n",
       "      <td>2008</td>\n",
       "      <td>152</td>\n",
       "      <td>Action, Crime, Drama</td>\n",
       "      <td>9.0</td>\n",
       "      <td>84.0</td>\n",
       "      <td>When the menace known as the Joker wreaks havo...</td>\n",
       "      <td>2355907.0</td>\n",
       "      <td>534.859985</td>\n",
       "    </tr>\n",
       "    <tr>\n",
       "      <th>4</th>\n",
       "      <td>The Godfather: Part II</td>\n",
       "      <td>1974</td>\n",
       "      <td>202</td>\n",
       "      <td>Crime, Drama</td>\n",
       "      <td>9.0</td>\n",
       "      <td>90.0</td>\n",
       "      <td>The early life and career of Vito Corleone in ...</td>\n",
       "      <td>1152912.0</td>\n",
       "      <td>57.299999</td>\n",
       "    </tr>\n",
       "    <tr>\n",
       "      <th>5</th>\n",
       "      <td>12 Angry Men</td>\n",
       "      <td>1957</td>\n",
       "      <td>96</td>\n",
       "      <td>Crime, Drama</td>\n",
       "      <td>9.0</td>\n",
       "      <td>96.0</td>\n",
       "      <td>A jury holdout attempts to prevent a miscarria...</td>\n",
       "      <td>706079.0</td>\n",
       "      <td>4.360000</td>\n",
       "    </tr>\n",
       "    <tr>\n",
       "      <th>...</th>\n",
       "      <td>...</td>\n",
       "      <td>...</td>\n",
       "      <td>...</td>\n",
       "      <td>...</td>\n",
       "      <td>...</td>\n",
       "      <td>...</td>\n",
       "      <td>...</td>\n",
       "      <td>...</td>\n",
       "      <td>...</td>\n",
       "    </tr>\n",
       "    <tr>\n",
       "      <th>991</th>\n",
       "      <td>Kelly's Heroes</td>\n",
       "      <td>1970</td>\n",
       "      <td>144</td>\n",
       "      <td>Adventure, Comedy, War</td>\n",
       "      <td>7.6</td>\n",
       "      <td>50.0</td>\n",
       "      <td>A group of U.S. soldiers sneaks across enemy l...</td>\n",
       "      <td>45985.0</td>\n",
       "      <td>1.380000</td>\n",
       "    </tr>\n",
       "    <tr>\n",
       "      <th>993</th>\n",
       "      <td>The Jungle Book</td>\n",
       "      <td>1967</td>\n",
       "      <td>78</td>\n",
       "      <td>Animation, Adventure, Family</td>\n",
       "      <td>7.6</td>\n",
       "      <td>65.0</td>\n",
       "      <td>Bagheera the Panther and Baloo the Bear have a...</td>\n",
       "      <td>168985.0</td>\n",
       "      <td>141.839996</td>\n",
       "    </tr>\n",
       "    <tr>\n",
       "      <th>994</th>\n",
       "      <td>A Hard Day's Night</td>\n",
       "      <td>1964</td>\n",
       "      <td>87</td>\n",
       "      <td>Comedy, Musical</td>\n",
       "      <td>7.6</td>\n",
       "      <td>96.0</td>\n",
       "      <td>Over two \"typical\" days in the life of The Bea...</td>\n",
       "      <td>40931.0</td>\n",
       "      <td>13.780000</td>\n",
       "    </tr>\n",
       "    <tr>\n",
       "      <th>997</th>\n",
       "      <td>Shane</td>\n",
       "      <td>1953</td>\n",
       "      <td>118</td>\n",
       "      <td>Drama, Western</td>\n",
       "      <td>7.6</td>\n",
       "      <td>80.0</td>\n",
       "      <td>A weary gunfighter attempts to settle down wit...</td>\n",
       "      <td>37753.0</td>\n",
       "      <td>20.000000</td>\n",
       "    </tr>\n",
       "    <tr>\n",
       "      <th>998</th>\n",
       "      <td>From Here to Eternity</td>\n",
       "      <td>1953</td>\n",
       "      <td>118</td>\n",
       "      <td>Drama, Romance, War</td>\n",
       "      <td>7.6</td>\n",
       "      <td>85.0</td>\n",
       "      <td>In Hawaii in 1941, a private is cruelly punish...</td>\n",
       "      <td>44086.0</td>\n",
       "      <td>30.500000</td>\n",
       "    </tr>\n",
       "  </tbody>\n",
       "</table>\n",
       "<p>747 rows × 9 columns</p>\n",
       "</div>"
      ],
      "text/plain": [
       "                           Name Year of release  Runtime  \\\n",
       "S.No.                                                      \n",
       "0      The Shawshank Redemption            1994      142   \n",
       "1                 The Godfather            1972      175   \n",
       "3               The Dark Knight            2008      152   \n",
       "4        The Godfather: Part II            1974      202   \n",
       "5                  12 Angry Men            1957       96   \n",
       "...                         ...             ...      ...   \n",
       "991              Kelly's Heroes            1970      144   \n",
       "993             The Jungle Book            1967       78   \n",
       "994          A Hard Day's Night            1964       87   \n",
       "997                       Shane            1953      118   \n",
       "998       From Here to Eternity            1953      118   \n",
       "\n",
       "                              Genre  Rating  Metascore  \\\n",
       "S.No.                                                    \n",
       "0                             Drama     9.3       80.0   \n",
       "1                      Crime, Drama     9.2      100.0   \n",
       "3              Action, Crime, Drama     9.0       84.0   \n",
       "4                      Crime, Drama     9.0       90.0   \n",
       "5                      Crime, Drama     9.0       96.0   \n",
       "...                             ...     ...        ...   \n",
       "991          Adventure, Comedy, War     7.6       50.0   \n",
       "993    Animation, Adventure, Family     7.6       65.0   \n",
       "994                 Comedy, Musical     7.6       96.0   \n",
       "997                  Drama, Western     7.6       80.0   \n",
       "998             Drama, Romance, War     7.6       85.0   \n",
       "\n",
       "                                                Timeline      Votes  \\\n",
       "S.No.                                                                 \n",
       "0      Two imprisoned men bond over a number of years...  2394059.0   \n",
       "1      An organized crime dynasty's aging patriarch t...  1658439.0   \n",
       "3      When the menace known as the Joker wreaks havo...  2355907.0   \n",
       "4      The early life and career of Vito Corleone in ...  1152912.0   \n",
       "5      A jury holdout attempts to prevent a miscarria...   706079.0   \n",
       "...                                                  ...        ...   \n",
       "991    A group of U.S. soldiers sneaks across enemy l...    45985.0   \n",
       "993    Bagheera the Panther and Baloo the Bear have a...   168985.0   \n",
       "994    Over two \"typical\" days in the life of The Bea...    40931.0   \n",
       "997    A weary gunfighter attempts to settle down wit...    37753.0   \n",
       "998    In Hawaii in 1941, a private is cruelly punish...    44086.0   \n",
       "\n",
       "       Box_office_collection  \n",
       "S.No.                         \n",
       "0                  28.340000  \n",
       "1                 134.970001  \n",
       "3                 534.859985  \n",
       "4                  57.299999  \n",
       "5                   4.360000  \n",
       "...                      ...  \n",
       "991                 1.380000  \n",
       "993               141.839996  \n",
       "994                13.780000  \n",
       "997                20.000000  \n",
       "998                30.500000  \n",
       "\n",
       "[747 rows x 9 columns]"
      ]
     },
     "execution_count": 32,
     "metadata": {},
     "output_type": "execute_result"
    }
   ],
   "source": [
    "# How to remove special characters from tha dataframe ? \n",
    "value['Year of release'] = value['Year of release'].str.extract('(\\d+)', expand=False)\n",
    "value"
   ]
  },
  {
   "cell_type": "code",
   "execution_count": 33,
   "metadata": {},
   "outputs": [
    {
     "data": {
      "text/html": [
       "<div>\n",
       "<style scoped>\n",
       "    .dataframe tbody tr th:only-of-type {\n",
       "        vertical-align: middle;\n",
       "    }\n",
       "\n",
       "    .dataframe tbody tr th {\n",
       "        vertical-align: top;\n",
       "    }\n",
       "\n",
       "    .dataframe thead th {\n",
       "        text-align: right;\n",
       "    }\n",
       "</style>\n",
       "<table border=\"1\" class=\"dataframe\">\n",
       "  <thead>\n",
       "    <tr style=\"text-align: right;\">\n",
       "      <th></th>\n",
       "      <th>Name</th>\n",
       "      <th>Year of release</th>\n",
       "      <th>Runtime</th>\n",
       "      <th>Genre</th>\n",
       "      <th>Rating</th>\n",
       "      <th>Metascore</th>\n",
       "      <th>Timeline</th>\n",
       "      <th>Votes</th>\n",
       "      <th>Box_office_collection</th>\n",
       "    </tr>\n",
       "    <tr>\n",
       "      <th>S.No.</th>\n",
       "      <th></th>\n",
       "      <th></th>\n",
       "      <th></th>\n",
       "      <th></th>\n",
       "      <th></th>\n",
       "      <th></th>\n",
       "      <th></th>\n",
       "      <th></th>\n",
       "      <th></th>\n",
       "    </tr>\n",
       "  </thead>\n",
       "  <tbody>\n",
       "    <tr>\n",
       "      <th>0</th>\n",
       "      <td>The Shawshank Redemption</td>\n",
       "      <td>1994</td>\n",
       "      <td>142</td>\n",
       "      <td>Drama</td>\n",
       "      <td>9.3</td>\n",
       "      <td>80.0</td>\n",
       "      <td>Two imprisoned men bond over a number of years...</td>\n",
       "      <td>2394059.0</td>\n",
       "      <td>28.340000</td>\n",
       "    </tr>\n",
       "    <tr>\n",
       "      <th>1</th>\n",
       "      <td>The Godfather</td>\n",
       "      <td>1972</td>\n",
       "      <td>175</td>\n",
       "      <td>Crime, Drama</td>\n",
       "      <td>9.2</td>\n",
       "      <td>100.0</td>\n",
       "      <td>An organized crime dynasty's aging patriarch t...</td>\n",
       "      <td>1658439.0</td>\n",
       "      <td>134.970001</td>\n",
       "    </tr>\n",
       "    <tr>\n",
       "      <th>3</th>\n",
       "      <td>The Dark Knight</td>\n",
       "      <td>2008</td>\n",
       "      <td>152</td>\n",
       "      <td>Action, Crime, Drama</td>\n",
       "      <td>9.0</td>\n",
       "      <td>84.0</td>\n",
       "      <td>When the menace known as the Joker wreaks havo...</td>\n",
       "      <td>2355907.0</td>\n",
       "      <td>534.859985</td>\n",
       "    </tr>\n",
       "    <tr>\n",
       "      <th>4</th>\n",
       "      <td>The Godfather: Part II</td>\n",
       "      <td>1974</td>\n",
       "      <td>202</td>\n",
       "      <td>Crime, Drama</td>\n",
       "      <td>9.0</td>\n",
       "      <td>90.0</td>\n",
       "      <td>The early life and career of Vito Corleone in ...</td>\n",
       "      <td>1152912.0</td>\n",
       "      <td>57.299999</td>\n",
       "    </tr>\n",
       "    <tr>\n",
       "      <th>5</th>\n",
       "      <td>12 Angry Men</td>\n",
       "      <td>1957</td>\n",
       "      <td>96</td>\n",
       "      <td>Crime, Drama</td>\n",
       "      <td>9.0</td>\n",
       "      <td>96.0</td>\n",
       "      <td>A jury holdout attempts to prevent a miscarria...</td>\n",
       "      <td>706079.0</td>\n",
       "      <td>4.360000</td>\n",
       "    </tr>\n",
       "  </tbody>\n",
       "</table>\n",
       "</div>"
      ],
      "text/plain": [
       "                           Name Year of release  Runtime  \\\n",
       "S.No.                                                      \n",
       "0      The Shawshank Redemption            1994      142   \n",
       "1                 The Godfather            1972      175   \n",
       "3               The Dark Knight            2008      152   \n",
       "4        The Godfather: Part II            1974      202   \n",
       "5                  12 Angry Men            1957       96   \n",
       "\n",
       "                      Genre  Rating  Metascore  \\\n",
       "S.No.                                            \n",
       "0                     Drama     9.3       80.0   \n",
       "1              Crime, Drama     9.2      100.0   \n",
       "3      Action, Crime, Drama     9.0       84.0   \n",
       "4              Crime, Drama     9.0       90.0   \n",
       "5              Crime, Drama     9.0       96.0   \n",
       "\n",
       "                                                Timeline      Votes  \\\n",
       "S.No.                                                                 \n",
       "0      Two imprisoned men bond over a number of years...  2394059.0   \n",
       "1      An organized crime dynasty's aging patriarch t...  1658439.0   \n",
       "3      When the menace known as the Joker wreaks havo...  2355907.0   \n",
       "4      The early life and career of Vito Corleone in ...  1152912.0   \n",
       "5      A jury holdout attempts to prevent a miscarria...   706079.0   \n",
       "\n",
       "       Box_office_collection  \n",
       "S.No.                         \n",
       "0                  28.340000  \n",
       "1                 134.970001  \n",
       "3                 534.859985  \n",
       "4                  57.299999  \n",
       "5                   4.360000  "
      ]
     },
     "execution_count": 33,
     "metadata": {},
     "output_type": "execute_result"
    }
   ],
   "source": [
    "# To check if the special characters have been removed from the dataframe.\n",
    "value.head()"
   ]
  },
  {
   "cell_type": "markdown",
   "metadata": {},
   "source": [
    "## EXPLORATORY DATA ANALYSIS"
   ]
  },
  {
   "cell_type": "markdown",
   "metadata": {},
   "source": [
    "<h3> Checking for outliers</h3>"
   ]
  },
  {
   "cell_type": "code",
   "execution_count": 34,
   "metadata": {},
   "outputs": [
    {
     "data": {
      "image/png": "[encoded data removed]",
      "text/plain": [
       "<Figure size 432x288 with 1 Axes>"
      ]
     },
     "metadata": {
      "needs_background": "light"
     },
     "output_type": "display_data"
    }
   ],
   "source": [
    "# To check for outliers we have made a histogram for the 'Metascore' column.\n",
    "plt.hist(value.Metascore)\n",
    "plt.show()"
   ]
  },
  {
   "cell_type": "code",
   "execution_count": 35,
   "metadata": {},
   "outputs": [],
   "source": [
    "# From the graph above we observe that there are no outliers in the 'Metascore' column."
   ]
  },
  {
   "cell_type": "code",
   "execution_count": 36,
   "metadata": {},
   "outputs": [
    {
     "data": {
      "image/png": "[encoded data removed]",
      "text/plain": [
       "<Figure size 432x288 with 1 Axes>"
      ]
     },
     "metadata": {
      "needs_background": "light"
     },
     "output_type": "display_data"
    }
   ],
   "source": [
    "# To check for outliers we have made a histogram for the 'Rating' column.\n",
    "plt.hist(value.Rating)\n",
    "plt.show()"
   ]
  },
  {
   "cell_type": "code",
   "execution_count": 37,
   "metadata": {},
   "outputs": [],
   "source": [
    "# From the graph above we observe that there are no outliers in the 'Rating' column."
   ]
  },
  {
   "cell_type": "code",
   "execution_count": 38,
   "metadata": {},
   "outputs": [
    {
     "data": {
      "image/png": "[encoded data removed]",
      "text/plain": [
       "<Figure size 432x288 with 1 Axes>"
      ]
     },
     "metadata": {
      "needs_background": "light"
     },
     "output_type": "display_data"
    }
   ],
   "source": [
    "# To check for outliers we have made a histogram for the 'Box_office_collection' column.\n",
    "plt.hist(value.Box_office_collection)\n",
    "plt.show()"
   ]
  },
  {
   "cell_type": "code",
   "execution_count": 39,
   "metadata": {},
   "outputs": [],
   "source": [
    "# From the graph above we observe that there are no outliers in the 'Box_office_collection' column."
   ]
  },
  {
   "cell_type": "code",
   "execution_count": 40,
   "metadata": {},
   "outputs": [
    {
     "data": {
      "image/png": "[encoded data removed]",
      "text/plain": [
       "<Figure size 432x288 with 1 Axes>"
      ]
     },
     "metadata": {
      "needs_background": "light"
     },
     "output_type": "display_data"
    }
   ],
   "source": [
    "# To check for outliers we have made a histogram for the 'Runtime' column.\n",
    "plt.hist(value.Runtime)\n",
    "plt.show()"
   ]
  },
  {
   "cell_type": "code",
   "execution_count": 41,
   "metadata": {},
   "outputs": [],
   "source": [
    "# From the graph above we observe that there are no outliers in the 'Runtime' column."
   ]
  },
  {
   "cell_type": "markdown",
   "metadata": {},
   "source": [
    "<h3> How to get the details of the nth movie ?</h3>"
   ]
  },
  {
   "cell_type": "code",
   "execution_count": 42,
   "metadata": {},
   "outputs": [
    {
     "name": "stdout",
     "output_type": "stream",
     "text": [
      "Details of the fifth movie:\n",
      "Name                                                          12 Angry Men\n",
      "Year of release                                                       1957\n",
      "Runtime                                                                 96\n",
      "Genre                                                         Crime, Drama\n",
      "Rating                                                                   9\n",
      "Metascore                                                               96\n",
      "Timeline                 A jury holdout attempts to prevent a miscarria...\n",
      "Votes                                                               706079\n",
      "Box_office_collection                                                 4.36\n",
      "Name: 5, dtype: object\n"
     ]
    }
   ],
   "source": [
    "# How to get the details of the fifth movie ?\n",
    "# We can find the nth movie by entering [n-1].\n",
    "fifth_movie = value.iloc[4]\n",
    "print(\"Details of the fifth movie:\")\n",
    "print(fifth_movie)"
   ]
  },
  {
   "cell_type": "markdown",
   "metadata": {},
   "source": [
    "### How to get the name and timeline of the movie ?"
   ]
  },
  {
   "cell_type": "code",
   "execution_count": 43,
   "metadata": {},
   "outputs": [
    {
     "name": "stdout",
     "output_type": "stream",
     "text": [
      "Details of name and timeline:\n",
      "                           Name  \\\n",
      "S.No.                             \n",
      "0      The Shawshank Redemption   \n",
      "1                 The Godfather   \n",
      "3               The Dark Knight   \n",
      "4        The Godfather: Part II   \n",
      "5                  12 Angry Men   \n",
      "...                         ...   \n",
      "991              Kelly's Heroes   \n",
      "993             The Jungle Book   \n",
      "994          A Hard Day's Night   \n",
      "997                       Shane   \n",
      "998       From Here to Eternity   \n",
      "\n",
      "                                                Timeline  \n",
      "S.No.                                                     \n",
      "0      Two imprisoned men bond over a number of years...  \n",
      "1      An organized crime dynasty's aging patriarch t...  \n",
      "3      When the menace known as the Joker wreaks havo...  \n",
      "4      The early life and career of Vito Corleone in ...  \n",
      "5      A jury holdout attempts to prevent a miscarria...  \n",
      "...                                                  ...  \n",
      "991    A group of U.S. soldiers sneaks across enemy l...  \n",
      "993    Bagheera the Panther and Baloo the Bear have a...  \n",
      "994    Over two \"typical\" days in the life of The Bea...  \n",
      "997    A weary gunfighter attempts to settle down wit...  \n",
      "998    In Hawaii in 1941, a private is cruelly punish...  \n",
      "\n",
      "[747 rows x 2 columns]\n"
     ]
    }
   ],
   "source": [
    "# How to get the name and timeline of the movie ?\n",
    "result = value[['Name', 'Timeline' ]]\n",
    "print(\"Details of name and timeline:\")\n",
    "print(result)"
   ]
  },
  {
   "cell_type": "markdown",
   "metadata": {},
   "source": [
    "<h3> How to access movies released after a particular year ?</h3>"
   ]
  },
  {
   "cell_type": "code",
   "execution_count": 44,
   "metadata": {},
   "outputs": [
    {
     "name": "stdout",
     "output_type": "stream",
     "text": [
      "Movies released after 1990:\n",
      "                                                Name Year of release  Runtime  \\\n",
      "S.No.                                                                           \n",
      "0                           The Shawshank Redemption            1994      142   \n",
      "3                                    The Dark Knight            2008      152   \n",
      "6      The Lord of the Rings: The Return of the King            2003      201   \n",
      "7                                       Pulp Fiction            1994      154   \n",
      "8                                   Schindler's List            1993      195   \n",
      "...                                              ...             ...      ...   \n",
      "968                                     Falling Down            1993      113   \n",
      "969                               Dazed and Confused            1993      102   \n",
      "970                                  My Cousin Vinny            1992      120   \n",
      "971                                   Only Yesterday            1991      118   \n",
      "972                                     Delicatessen            1991       99   \n",
      "\n",
      "                           Genre  Rating  \n",
      "S.No.                                     \n",
      "0                          Drama     9.3  \n",
      "3           Action, Crime, Drama     9.0  \n",
      "6       Action, Adventure, Drama     8.9  \n",
      "7                   Crime, Drama     8.9  \n",
      "8      Biography, Drama, History     8.9  \n",
      "...                          ...     ...  \n",
      "968         Action, Crime, Drama     7.6  \n",
      "969                       Comedy     7.6  \n",
      "970                Comedy, Crime     7.6  \n",
      "971    Animation, Drama, Romance     7.6  \n",
      "972                Comedy, Crime     7.6  \n",
      "\n",
      "[514 rows x 5 columns]\n"
     ]
    }
   ],
   "source": [
    "# How to access movies released after a particular year ?\n",
    "small_df = value[['Name', 'Year of release', 'Runtime', 'Genre', 'Rating']]\n",
    "b = small_df[small_df['Year of release'] > '1990']\n",
    "print(\"Movies released after 1990:\")\n",
    "print(b)"
   ]
  },
  {
   "cell_type": "markdown",
   "metadata": {},
   "source": [
    "### How to get the longest runtime and shortest runtime movie?"
   ]
  },
  {
   "cell_type": "code",
   "execution_count": 45,
   "metadata": {},
   "outputs": [
    {
     "name": "stdout",
     "output_type": "stream",
     "text": [
      "Longest runtime:\n",
      "238\n",
      "Shortest runtime:\n",
      "66\n"
     ]
    }
   ],
   "source": [
    "# How to get the longest runtime and shortest runtime movie ?\n",
    "e = value[['Name', 'Runtime' ]]\n",
    "run_time = e['Runtime']\n",
    "print(\"Longest runtime:\")\n",
    "print(run_time.max())\n",
    "print(\"Shortest runtime:\")\n",
    "print(run_time.min())"
   ]
  },
  {
   "cell_type": "markdown",
   "metadata": {},
   "source": [
    "### How to calculate the number of votes garnered by the 70% of the movies ?"
   ]
  },
  {
   "cell_type": "code",
   "execution_count": 46,
   "metadata": {},
   "outputs": [
    {
     "name": "stdout",
     "output_type": "stream",
     "text": [
      "428718.39999999985\n"
     ]
    }
   ],
   "source": [
    "# How to calculate the number of votes garnered by the 70% movie ?\n",
    "vote_count = value['Votes'].quantile(0.70)\n",
    "print(vote_count)"
   ]
  },
  {
   "cell_type": "markdown",
   "metadata": {},
   "source": [
    "### How to display the movies (title, runtime) longer than 100 minutes and shorter than 360 minutes?"
   ]
  },
  {
   "cell_type": "code",
   "execution_count": 47,
   "metadata": {},
   "outputs": [
    {
     "name": "stdout",
     "output_type": "stream",
     "text": [
      "List of movies longer than 100 minutes and shorter than 360 minutes:\n",
      "                                                Name  Runtime\n",
      "S.No.                                                        \n",
      "0                           The Shawshank Redemption      142\n",
      "1                                      The Godfather      175\n",
      "3                                    The Dark Knight      152\n",
      "4                             The Godfather: Part II      202\n",
      "6      The Lord of the Rings: The Return of the King      201\n",
      "...                                              ...      ...\n",
      "989                                 The Long Goodbye      112\n",
      "990                                  Duck You Sucker      138\n",
      "991                                   Kelly's Heroes      144\n",
      "997                                            Shane      118\n",
      "998                            From Here to Eternity      118\n",
      "\n",
      "[631 rows x 2 columns]\n"
     ]
    }
   ],
   "source": [
    "# How to display the movies (title, runtime) longer than 30 minutes and shorter than 360 minutes ?\n",
    "small_dataf = value[['Name', 'Runtime']]\n",
    "list_of_movies = small_dataf[(small_dataf['Runtime'] >= 100) & (small_dataf['Runtime'] <= 360)]\n",
    "print(\"List of movies longer than 100 minutes and shorter than 360 minutes:\")\n",
    "print(list_of_movies)"
   ]
  },
  {
   "cell_type": "markdown",
   "metadata": {},
   "source": [
    "<h3> How to display the movies that received specified number of votes ?</h3>"
   ]
  },
  {
   "cell_type": "code",
   "execution_count": 49,
   "metadata": {},
   "outputs": [
    {
     "name": "stdout",
     "output_type": "stream",
     "text": [
      "45985\n",
      "Movie(s) that received 45985 votes:\n",
      "Empty DataFrame\n",
      "Columns: [Name, Votes]\n",
      "Index: []\n"
     ]
    }
   ],
   "source": [
    "# How to display the movies ( Name, Votes) that received specified number of votes?\n",
    "n = input()\n",
    "small_dataframe = value[['Name', 'Votes']]\n",
    "g = small_dataframe[small_dataframe['Votes'] == n]\n",
    "print(\"Movie(s) that received \" + n + \" votes:\")\n",
    "print(g)"
   ]
  },
  {
   "cell_type": "markdown",
   "metadata": {},
   "source": [
    "### How to sort the data frame based on metascore (ascending) ?"
   ]
  },
  {
   "cell_type": "code",
   "execution_count": 45,
   "metadata": {},
   "outputs": [
    {
     "name": "stdout",
     "output_type": "stream",
     "text": [
      "DataFrame based on release date.\n",
      "                       Name Year of release  Metascore\n",
      "S.No.                                                 \n",
      "949                I Am Sam            2001       28.0\n",
      "948    The Butterfly Effect            2004       30.0\n",
      "365             Elite Squad            2007       33.0\n",
      "926            Seven Pounds            2008       36.0\n",
      "602              Kai Po Che            2013       40.0\n",
      "...                     ...             ...        ...\n",
      "462               Notorious            1946      100.0\n",
      "279     Fanny and Alexander            1982      100.0\n",
      "498                 Boyhood          I 2014      100.0\n",
      "50              Rear Window            1954      100.0\n",
      "432          The Conformist            1970      100.0\n",
      "\n",
      "[747 rows x 3 columns]\n"
     ]
    }
   ],
   "source": [
    "# How to sort the data frame based on metascore (ascending) ?\n",
    "limit_df = value[['Name', 'Year of release', 'Metascore']]\n",
    "metascore_arrange = limit_df.sort_values('Metascore')\n",
    "print(\"DataFrame based on release date.\")\n",
    "print(metascore_arrange)"
   ]
  },
  {
   "cell_type": "markdown",
   "metadata": {},
   "source": [
    "<h3> How to get the movie with maximum and minimum votes ?</h3>"
   ]
  },
  {
   "cell_type": "code",
   "execution_count": 47,
   "metadata": {},
   "outputs": [
    {
     "name": "stdout",
     "output_type": "stream",
     "text": [
      "Maximum votes:\n",
      "2394059.0\n",
      "Minimum votes:\n",
      "25213.0\n",
      "                           Name      Votes                         Genre\n",
      "S.No.                                                                   \n",
      "0      The Shawshank Redemption  2394059.0                         Drama\n",
      "1                 The Godfather  1658439.0                  Crime, Drama\n",
      "3               The Dark Knight  2355907.0          Action, Crime, Drama\n",
      "4        The Godfather: Part II  1152912.0                  Crime, Drama\n",
      "5                  12 Angry Men   706079.0                  Crime, Drama\n",
      "...                         ...        ...                           ...\n",
      "991              Kelly's Heroes    45985.0        Adventure, Comedy, War\n",
      "993             The Jungle Book   168985.0  Animation, Adventure, Family\n",
      "994          A Hard Day's Night    40931.0               Comedy, Musical\n",
      "997                       Shane    37753.0                Drama, Western\n",
      "998       From Here to Eternity    44086.0           Drama, Romance, War\n",
      "\n",
      "[747 rows x 3 columns]\n"
     ]
    }
   ],
   "source": [
    "# How to get the movie with maximum and minimum votes ?\n",
    "w = value[['Name', 'Votes','Genre']]\n",
    "run_votes = w['Votes']\n",
    "print(\"Maximum votes:\")\n",
    "print(run_votes.max())\n",
    "print(\"Minimum votes:\")\n",
    "print(run_votes.min())\n",
    "print(w)"
   ]
  },
  {
   "cell_type": "markdown",
   "metadata": {},
   "source": [
    "## <h3>How to sort the Dataframe based on 'Year of release' ?</h3>"
   ]
  },
  {
   "cell_type": "code",
   "execution_count": 73,
   "metadata": {},
   "outputs": [
    {
     "name": "stdout",
     "output_type": "stream",
     "text": [
      "DataFrame based on release year.\n",
      "                                 Name Year of release  Rating  Runtime\n",
      "S.No.                                                                 \n",
      "470               Battleship Potemkin            1925     8.0       66\n",
      "128                        Metropolis            1927     8.3      153\n",
      "326    All Quiet on the Western Front            1930     8.1      152\n",
      "53                        City Lights            1931     8.5       87\n",
      "575                         King Kong            1933     7.9      100\n",
      "...                               ...             ...     ...      ...\n",
      "482                       Jojo Rabbit            2019     7.9      108\n",
      "55                              Joker            2019     8.4      122\n",
      "894          The Peanut Butter Falcon            2019     7.6       97\n",
      "344                         Gully Boy            2019     8.0      154\n",
      "473                    Marriage Story            2019     7.9      137\n",
      "\n",
      "[747 rows x 4 columns]\n"
     ]
    }
   ],
   "source": [
    "# Create a smaller dataframe\n",
    "trial_df = value[['Name', 'Year of release', 'Rating', 'Runtime']]\n",
    "output = trial_df.sort_values('Year of release')\n",
    "print(\"DataFrame based on release year.\")\n",
    "print(output)"
   ]
  },
  {
   "cell_type": "markdown",
   "metadata": {},
   "source": [
    "## <h3>How to get the latest movies ?</h3>"
   ]
  },
  {
   "cell_type": "code",
   "execution_count": 79,
   "metadata": {},
   "outputs": [
    {
     "data": {
      "text/html": [
       "<div>\n",
       "<style scoped>\n",
       "    .dataframe tbody tr th:only-of-type {\n",
       "        vertical-align: middle;\n",
       "    }\n",
       "\n",
       "    .dataframe tbody tr th {\n",
       "        vertical-align: top;\n",
       "    }\n",
       "\n",
       "    .dataframe thead th {\n",
       "        text-align: right;\n",
       "    }\n",
       "</style>\n",
       "<table border=\"1\" class=\"dataframe\">\n",
       "  <thead>\n",
       "    <tr style=\"text-align: right;\">\n",
       "      <th></th>\n",
       "      <th>Name</th>\n",
       "      <th>Year of release</th>\n",
       "      <th>Rating</th>\n",
       "      <th>Runtime</th>\n",
       "    </tr>\n",
       "    <tr>\n",
       "      <th>S.No.</th>\n",
       "      <th></th>\n",
       "      <th></th>\n",
       "      <th></th>\n",
       "      <th></th>\n",
       "    </tr>\n",
       "  </thead>\n",
       "  <tbody>\n",
       "    <tr>\n",
       "      <th>476</th>\n",
       "      <td>Isle of Dogs</td>\n",
       "      <td>2018</td>\n",
       "      <td>7.9</td>\n",
       "      <td>101</td>\n",
       "    </tr>\n",
       "    <tr>\n",
       "      <th>61</th>\n",
       "      <td>Avengers: Endgame</td>\n",
       "      <td>2019</td>\n",
       "      <td>8.4</td>\n",
       "      <td>181</td>\n",
       "    </tr>\n",
       "    <tr>\n",
       "      <th>217</th>\n",
       "      <td>Ford v Ferrari</td>\n",
       "      <td>2019</td>\n",
       "      <td>8.1</td>\n",
       "      <td>152</td>\n",
       "    </tr>\n",
       "    <tr>\n",
       "      <th>195</th>\n",
       "      <td>Portrait of a Lady on Fire</td>\n",
       "      <td>2019</td>\n",
       "      <td>8.1</td>\n",
       "      <td>122</td>\n",
       "    </tr>\n",
       "    <tr>\n",
       "      <th>740</th>\n",
       "      <td>Toy Story 4</td>\n",
       "      <td>2019</td>\n",
       "      <td>7.7</td>\n",
       "      <td>100</td>\n",
       "    </tr>\n",
       "    <tr>\n",
       "      <th>615</th>\n",
       "      <td>The Irishman</td>\n",
       "      <td>2019</td>\n",
       "      <td>7.8</td>\n",
       "      <td>209</td>\n",
       "    </tr>\n",
       "    <tr>\n",
       "      <th>85</th>\n",
       "      <td>1917</td>\n",
       "      <td>2019</td>\n",
       "      <td>8.3</td>\n",
       "      <td>119</td>\n",
       "    </tr>\n",
       "    <tr>\n",
       "      <th>594</th>\n",
       "      <td>Little Women</td>\n",
       "      <td>2019</td>\n",
       "      <td>7.8</td>\n",
       "      <td>135</td>\n",
       "    </tr>\n",
       "    <tr>\n",
       "      <th>471</th>\n",
       "      <td>Knives Out</td>\n",
       "      <td>2019</td>\n",
       "      <td>7.9</td>\n",
       "      <td>130</td>\n",
       "    </tr>\n",
       "    <tr>\n",
       "      <th>19</th>\n",
       "      <td>Parasite</td>\n",
       "      <td>2019</td>\n",
       "      <td>8.6</td>\n",
       "      <td>132</td>\n",
       "    </tr>\n",
       "    <tr>\n",
       "      <th>889</th>\n",
       "      <td>Once Upon a Time... In Hollywood</td>\n",
       "      <td>2019</td>\n",
       "      <td>7.6</td>\n",
       "      <td>161</td>\n",
       "    </tr>\n",
       "    <tr>\n",
       "      <th>482</th>\n",
       "      <td>Jojo Rabbit</td>\n",
       "      <td>2019</td>\n",
       "      <td>7.9</td>\n",
       "      <td>108</td>\n",
       "    </tr>\n",
       "    <tr>\n",
       "      <th>55</th>\n",
       "      <td>Joker</td>\n",
       "      <td>2019</td>\n",
       "      <td>8.4</td>\n",
       "      <td>122</td>\n",
       "    </tr>\n",
       "    <tr>\n",
       "      <th>894</th>\n",
       "      <td>The Peanut Butter Falcon</td>\n",
       "      <td>2019</td>\n",
       "      <td>7.6</td>\n",
       "      <td>97</td>\n",
       "    </tr>\n",
       "    <tr>\n",
       "      <th>344</th>\n",
       "      <td>Gully Boy</td>\n",
       "      <td>2019</td>\n",
       "      <td>8.0</td>\n",
       "      <td>154</td>\n",
       "    </tr>\n",
       "    <tr>\n",
       "      <th>473</th>\n",
       "      <td>Marriage Story</td>\n",
       "      <td>2019</td>\n",
       "      <td>7.9</td>\n",
       "      <td>137</td>\n",
       "    </tr>\n",
       "  </tbody>\n",
       "</table>\n",
       "</div>"
      ],
      "text/plain": [
       "                                   Name Year of release  Rating  Runtime\n",
       "S.No.                                                                   \n",
       "476                        Isle of Dogs            2018     7.9      101\n",
       "61                    Avengers: Endgame            2019     8.4      181\n",
       "217                      Ford v Ferrari            2019     8.1      152\n",
       "195          Portrait of a Lady on Fire            2019     8.1      122\n",
       "740                         Toy Story 4            2019     7.7      100\n",
       "615                        The Irishman            2019     7.8      209\n",
       "85                                 1917            2019     8.3      119\n",
       "594                        Little Women            2019     7.8      135\n",
       "471                          Knives Out            2019     7.9      130\n",
       "19                             Parasite            2019     8.6      132\n",
       "889    Once Upon a Time... In Hollywood            2019     7.6      161\n",
       "482                         Jojo Rabbit            2019     7.9      108\n",
       "55                                Joker            2019     8.4      122\n",
       "894            The Peanut Butter Falcon            2019     7.6       97\n",
       "344                           Gully Boy            2019     8.0      154\n",
       "473                      Marriage Story            2019     7.9      137"
      ]
     },
     "execution_count": 79,
     "metadata": {},
     "output_type": "execute_result"
    }
   ],
   "source": [
    "# Here 'output' is the dataframe formed in the previous code.\n",
    "# We are looking for the latest 16 movies released.\n",
    "output.tail(16)"
   ]
  },
  {
   "cell_type": "markdown",
   "metadata": {},
   "source": [
    "## <h3> How to get those movies whose box office collection is more than 5 million and less than 10 million.</h3>"
   ]
  },
  {
   "cell_type": "code",
   "execution_count": 81,
   "metadata": {},
   "outputs": [
    {
     "name": "stdout",
     "output_type": "stream",
     "text": [
      "Movies, box office collection more than 5 million and less than 10 million:\n",
      "                                 Name Year of release  Box_office_collection\n",
      "S.No.                                                                       \n",
      "13     The Good, the Bad and the Ugly            1966                   6.10\n",
      "21                        City of God            2002                   7.56\n",
      "40                 American History X            1998                   6.72\n",
      "48       Once Upon a Time in the West            1968                   5.32\n",
      "58                         Your Name.            2016                   5.02\n",
      "...                               ...             ...                    ...\n",
      "891               The Florida Project            2017                   5.90\n",
      "925                       The Visitor            2007                   9.42\n",
      "943            A Very Long Engagement            2004                   6.17\n",
      "944                 The Station Agent            2003                   5.74\n",
      "969                Dazed and Confused            1993                   7.99\n",
      "\n",
      "[62 rows x 3 columns]\n"
     ]
    }
   ],
   "source": [
    "trial2_df = value[['Name', 'Year of release','Box_office_collection']]\n",
    "output1 = trial2_df[(value['Box_office_collection'] > 5.00) & (value['Box_office_collection'] < 10.00)]\n",
    "print(\"Movies, box office collection more than 5 million and less than 10 million:\")\n",
    "print(output1)"
   ]
  },
  {
   "cell_type": "markdown",
   "metadata": {},
   "source": [
    "### <font color='green'>AIM - 1 :</font> How to suggests movies of the genre we input and print them in descending order on the basis of their ratings ?"
   ]
  },
  {
   "cell_type": "code",
   "execution_count": 52,
   "metadata": {},
   "outputs": [
    {
     "name": "stdout",
     "output_type": "stream",
     "text": [
      "Comedy\n",
      "List of movies ofComedy genre on the basis of highest ratings:\n",
      "                                                    Name   Genre  Rating\n",
      "S.No.                                                                   \n",
      "79     Dr. Strangelove or: How I Learned to Stop Worr...  Comedy     8.4\n",
      "283                         Monty Python's Life of Brian  Comedy     8.1\n",
      "426                                   Young Frankenstein  Comedy     8.0\n",
      "549                The Discreet Charm of the Bourgeoisie  Comedy     7.9\n",
      "682                             Ferris Bueller's Day Off  Comedy     7.8\n",
      "755                                         The Hangover  Comedy     7.7\n",
      "806                                         Office Space  Comedy     7.7\n",
      "816                                     Le Dîner de Cons  Comedy     7.7\n",
      "825                                               Clerks  Comedy     7.7\n",
      "854                                            Airplane!  Comedy     7.7\n",
      "866                                       The Odd Couple  Comedy     7.7\n",
      "969                                   Dazed and Confused  Comedy     7.6\n"
     ]
    }
   ],
   "source": [
    "# AIM - 1\n",
    "# To make a recommendation system which suggests movies of the genre we input\n",
    "# And print them in descending order on the basis of their ratings.\n",
    "genre_name = input()\n",
    "dataframe_ = value[['Name', 'Genre', 'Rating']]\n",
    "new_dataframe = dataframe_[dataframe_['Genre']==genre_name]\n",
    "genre_boc = new_dataframe.sort_values('Rating', ascending=False)\n",
    "print(\"List of movies of\" + genre_name + \" genre on the basis of highest ratings:\")\n",
    "print(genre_boc)"
   ]
  },
  {
   "cell_type": "markdown",
   "metadata": {},
   "source": [
    "### <font color='green'>AIM - 2 :</font> How to get the details of a particular movie ? "
   ]
  },
  {
   "cell_type": "code",
   "execution_count": 53,
   "metadata": {},
   "outputs": [
    {
     "name": "stdout",
     "output_type": "stream",
     "text": [
      "Kai Po Che\n",
      "Details of the movie Kai Po Che :\n",
      "Year of release                                                       2013\n",
      "Runtime                                                                120\n",
      "Genre                                                         Drama, Sport\n",
      "Rating                                                                 7.8\n",
      "Metascore                                                               40\n",
      "Timeline                 Three friends growing up in India at the turn ...\n",
      "Votes                                                                33681\n",
      "Box_office_collection                                                 1.12\n",
      "Name: Kai Po Che, dtype: object\n"
     ]
    }
   ],
   "source": [
    "# AIM - 2\n",
    "# How to get the details of a particular movie ? \n",
    "# To input a movie name and display its timeline, year of release, genre, runtime, metascore, votes and IMDB rating.\n",
    "movie_name = input()\n",
    "change_data = value.set_index('Name')\n",
    "a = change_data.loc[movie_name]\n",
    "print(\"Details of the movie \" + movie_name + \" :\")\n",
    "print(a)"
   ]
  },
  {
   "cell_type": "markdown",
   "metadata": {},
   "source": [
    "### <font color='green'>AIM - 3 :</font> How to display the movies released during a particular period of time ?</font> "
   ]
  },
  {
   "cell_type": "code",
   "execution_count": 57,
   "metadata": {},
   "outputs": [
    {
     "name": "stdout",
     "output_type": "stream",
     "text": [
      "2011\n",
      "2013\n",
      "List of movies released between 2011 and 2013:\n",
      "                                               Name Year of release\n",
      "S.No.                                                              \n",
      "35                                 The Intouchables            2011\n",
      "64                                 Django Unchained            2012\n",
      "65                            The Dark Knight Rises            2012\n",
      "88                                         The Hunt            2012\n",
      "89                                     A Separation            2011\n",
      "140                                      Tangerines            2013\n",
      "151                         The Wolf of Wall Street            2013\n",
      "215                                12 Years a Slave            2013\n",
      "222                                       Prisoners            2013\n",
      "224                                         Warrior            2011\n",
      "227    Harry Potter and the Deathly Hallows: Part 2            2011\n",
      "342                 The Tale of The Princess Kaguya            2013\n",
      "346                                   Short Term 12            2013\n",
      "351                                             Her            2013\n",
      "353                 The Perks of Being a Wallflower            2012\n",
      "356                                        The Help            2011\n",
      "366                                    The Avengers            2012\n",
      "368                              Dallas Buyers Club            2013\n",
      "485                                 Before Midnight            2013\n",
      "487                    Once Upon a Time in Anatolia            2011\n",
      "491                                           Amour            2012\n",
      "505                                      Life of Pi            2012\n",
      "598                                The Great Beauty            2013\n",
      "599                                    The Lunchbox            2013\n",
      "602                                      Kai Po Che            2013\n",
      "605                                  The Wind Rises            2013\n",
      "606                                  The Best Offer            2013\n",
      "607                                Moonrise Kingdom            2012\n",
      "611                 The Girl with the Dragon Tattoo            2011\n",
      "612                                Captain Phillips            2013\n",
      "618             The Hobbit: The Desolation of Smaug            2013\n",
      "627               The Hobbit: An Unexpected Journey            2012\n",
      "737                                        The Past            2013\n",
      "738                      Blue Is the Warmest Colour            2013\n",
      "739                     The Broken Circle Breakdown            2012\n",
      "743                                        Nebraska            2013\n",
      "744                                  Wreck-It Ralph            2012\n",
      "746                                      Detachment            2011\n",
      "747                               Midnight in Paris            2011\n",
      "750                                         Gravity            2013\n",
      "751                         Star Trek Into Darkness            2013\n",
      "754                                  X: First Class            2011\n",
      "756                                         Skyfall            2012\n",
      "757                         Silver Linings Playbook            2012\n",
      "758                                            Argo            2012\n",
      "906                                       Philomena            2013\n",
      "909                            The Raid: Redemption            2011\n",
      "910                                    End of Watch            2012\n",
      "916                                           50/50            2011\n",
      "919                                       Moneyball            2011\n",
      "920                              The Skin I Live In            2011\n"
     ]
    }
   ],
   "source": [
    "# AIM - 3\n",
    "# To input an year/ time period and to display movies released during that period.\n",
    "n1 = input()\n",
    "n2 = input()\n",
    "edit_df = value[['Name', 'Year of release']]\n",
    "movie_list = edit_df[(edit_df['Year of release'] >= n1 ) & (edit_df['Year of release'] <= n2 )]\n",
    "print(\"List of movies released between \" + n1 + \" and \" + n2 + \":\")\n",
    "print(movie_list)"
   ]
  },
  {
   "cell_type": "markdown",
   "metadata": {},
   "source": [
    "<h3> GRAPHS</h3>"
   ]
  },
  {
   "cell_type": "markdown",
   "metadata": {},
   "source": [
    "<h3>Pie chart for genre column</h3>"
   ]
  },
  {
   "cell_type": "code",
   "execution_count": 55,
   "metadata": {},
   "outputs": [
    {
     "data": {
      "image/png": "[encoded data removed]",
      "text/plain": [
       "<Figure size 432x288 with 1 Axes>"
      ]
     },
     "metadata": {},
     "output_type": "display_data"
    }
   ],
   "source": [
    "# Here we have compared 'comedy' and 'drama'\n",
    "labels = ['drama','comedy']\n",
    "salesData = [25213,2394059.0]\n",
    "plt.axis(\"equal\")\n",
    "plt.pie(salesData, labels=labels, autopct='%1.2f%%')\n",
    "plt.legend(loc='lower right')\n",
    "plt.title('Genre')\n",
    "plt.show()"
   ]
  },
  {
   "cell_type": "markdown",
   "metadata": {},
   "source": [
    "<h3>Bar graph for the number of movies and the ratings received</h3> "
   ]
  },
  {
   "cell_type": "code",
   "execution_count": 52,
   "metadata": {},
   "outputs": [
    {
     "data": {
      "text/plain": [
       "<matplotlib.axes._subplots.AxesSubplot at 0x27c92d17d88>"
      ]
     },
     "execution_count": 52,
     "metadata": {},
     "output_type": "execute_result"
    },
    {
     "data": {
      "image/png": "[encoded data removed]",
      "text/plain": [
       "<Figure size 432x288 with 1 Axes>"
      ]
     },
     "metadata": {
      "needs_background": "light"
     },
     "output_type": "display_data"
    }
   ],
   "source": [
    "#It represents maximum rating received by movies.\n",
    "import seaborn as sns\n",
    "sns.countplot( value['Rating'] )"
   ]
  },
  {
   "cell_type": "markdown",
   "metadata": {},
   "source": [
    "<h3>Point plot graph of top 10 movies with highest number of votes</h3> "
   ]
  },
  {
   "cell_type": "code",
   "execution_count": 54,
   "metadata": {},
   "outputs": [
    {
     "data": {
      "image/png": "[encoded data removed]",
      "text/plain": [
       "<Figure size 432x288 with 1 Axes>"
      ]
     },
     "metadata": {
      "needs_background": "light"
     },
     "output_type": "display_data"
    }
   ],
   "source": [
    "#make a plot which contain top 10 IMDB movies which have highest number of votes.\n",
    "#sort the 'Votes' column in decending order and store it in the new dataframe,\n",
    "info = pd.DataFrame(value['Votes'].sort_values(ascending = False))\n",
    "info['Name'] = value['Name']\n",
    "datas = list(map(str,(info['Name'])))\n",
    "x = list(datas[:10])\n",
    "y = list(info['Votes'][:10])\n",
    "\n",
    "#make a plot using pointplot for top 10 famous movies.\n",
    "ax = sns.pointplot(x=y,y=x)\n",
    "\n",
    "#setup the figure size\n",
    "sns.set(rc={'figure.figsize':(10,5)})\n",
    "#setup the title and labels of the plot.\n",
    "ax.set_title(\"Top 10 IMDB Movies\",fontsize = 15)\n",
    "ax.set_xlabel(\"Votes\",fontsize = 13)\n",
    "sns.set_style(\"darkgrid\")"
   ]
  },
  {
   "cell_type": "markdown",
   "metadata": {},
   "source": [
    "<h3>Point plot graph of top 10 movies with highest box office collection</h3> "
   ]
  },
  {
   "cell_type": "code",
   "execution_count": 57,
   "metadata": {},
   "outputs": [
    {
     "data": {
      "image/png": "[encoded data removed]",
      "text/plain": [
       "<Figure size 720x360 with 1 Axes>"
      ]
     },
     "metadata": {},
     "output_type": "display_data"
    }
   ],
   "source": [
    "info = pd.DataFrame(value['Box_office_collection'].sort_values(ascending = False))\n",
    "info['Name'] = value['Name']\n",
    "datas = list(map(str,(info['Name'])))\n",
    "x = list(datas[:10])\n",
    "y = list(info['Box_office_collection'][:10])\n",
    "\n",
    "#make a plot using pointplot for top 10 famous movies.\n",
    "ax = sns.pointplot(x=y,y=x)\n",
    "\n",
    "#setup the figure size\n",
    "sns.set(rc={'figure.figsize':(10,10)})\n",
    "#setup the title and labels of the plot.\n",
    "ax.set_title(\"Top 10 IMDB Movies box office collection\",fontsize = 15)\n",
    "ax.set_xlabel(\"Box office collection\",fontsize = 13)\n",
    "sns.set_style(\"darkgrid\")"
   ]
  },
  {
   "cell_type": "markdown",
   "metadata": {},
   "source": [
    "<h3> Line graph of average ratings and year of release</h3>"
   ]
  },
  {
   "cell_type": "code",
   "execution_count": 66,
   "metadata": {},
   "outputs": [
    {
     "data": {
      "image/png": "[encoded data removed]",
      "text/plain": [
       "<Figure size 720x720 with 1 Axes>"
      ]
     },
     "metadata": {},
     "output_type": "display_data"
    }
   ],
   "source": [
    "# Year-wise analysis of ratings garnered by movies .\n",
    "# Taking the average of ratings received by movies in each year and plot.\n",
    "# Make the group of the data according to their 'Year of release' and find the mean ratings and plot.\n",
    "new_data.groupby('Year of release')['Rating'].mean().plot()\n",
    "\n",
    "#setup the title and labels of the figure.\n",
    "plt.title(\"Year Vs Average rating\",fontsize = 14)\n",
    "plt.xlabel('Release year',fontsize = 13)\n",
    "plt.ylabel('Average rating',fontsize = 13)\n",
    "\n",
    "#setup the figure size.\n",
    "sns.set(rc={'figure.figsize':(10,5)})\n",
    "sns.set_style(\"whitegrid\")"
   ]
  },
  {
   "cell_type": "markdown",
   "metadata": {},
   "source": [
    "<h3> Plot graph of top 10 movies with lowest Metascore</h3>"
   ]
  },
  {
   "cell_type": "code",
   "execution_count": 72,
   "metadata": {},
   "outputs": [
    {
     "data": {
      "image/png": "[encoded data removed]",
      "text/plain": [
       "<Figure size 720x720 with 1 Axes>"
      ]
     },
     "metadata": {},
     "output_type": "display_data"
    }
   ],
   "source": [
    "info = pd.DataFrame(value['Metascore'].sort_values(ascending = True))\n",
    "info['Name'] = value['Name']\n",
    "datas = list(map(str,(info['Name'])))\n",
    "x = list(datas[:10])\n",
    "y = list(info['Metascore'][:10])\n",
    "\n",
    "#make a plot using pointplot for top 10 famous movies.\n",
    "ax = sns.scatterplot(x=y,y=x)\n",
    "\n",
    "#setup the figure size\n",
    "sns.set(rc={'figure.figsize':(10,10)})\n",
    "#setup the title and labels of the plot.\n",
    "ax.set_title(\"Top 10 IMDB Movies with highest Metascore\",fontsize = 15)\n",
    "ax.set_xlabel(\"Metascore\",fontsize = 13)\n",
    "sns.set_style(\"darkgrid\")"
   ]
  },
  {
   "cell_type": "markdown",
   "metadata": {},
   "source": []
  },
  {
   "cell_type": "markdown",
   "metadata": {},
   "source": [
    "## <u>RESULT :</u>"
   ]
  },
  {
   "cell_type": "markdown",
   "metadata": {},
   "source": [
    "With the completion of this mini project we have learnt how to deal with dataset (csv file). To summarize, first we import the vital Python libraries, we read the csv file, we clean the data and we explore the data (using graphs as well). This project helped us analyse the data and create visualizations that helped us answer a few curiosities that we had about movie dataset.\n",
    "\n",
    "Following are the conclusions we have derived after thoroughly exploring the data :\n",
    "\n",
    "<ul><li>After cleaning the data and setting the index we had 747 rows and 9 columns.</li>\n",
    "<li>There are no outliers in the dataset.</li>\n",
    "<li>The shortest runtime in the entire dataset is 66 minutes and the longest runtime in the entire dataset is 238 minutes.</li>\n",
    "<li>The average number of votes garnered by 70% of the movies from the dataset is 428718.39999999985.</li>\n",
    "<li>The lowest metascore in the entire dataset is 28.0 which is received by the movie 'I Am Sam'</li>\n",
    "<li>'The Shawshank Redemption' has the highest number of votes i.e. 2400,000</li>\n",
    "<li>'Star Wars: Episode VII - The Force Awakens' has the highest Box Office collection ($ 700M +).</li>\n",
    "<li>130+ movies received 7.7 rating according to IMDb.</li>\n",
    "<li>\"Avengers: Endgame,  Ford v Ferrari,  Portrait of a Lady on Fire,  Toy Story 4,  The Irishman, 1917,  Little Women,  Knives Out,  Parasite,  Once Upon a Time... In Hollywood,  Jojo Rabbit,  Joker,  The Peanut Butter Falcon,  Gully Boy and  Marriage Story\" are the movies released in 2019 according to the IMDb dataset.</li>\n",
    "</ul> "
   ]
  }
 ],
 "metadata": {
  "kernelspec": {
   "display_name": "Python 3",
   "language": "python",
   "name": "python3"
  },
  "language_info": {
   "codemirror_mode": {
    "name": "ipython",
    "version": 3
   },
   "file_extension": ".py",
   "mimetype": "text/x-python",
   "name": "python",
   "nbconvert_exporter": "python",
   "pygments_lexer": "ipython3",
   "version": "3.8.8"
  }
 },
 "nbformat": 4,
 "nbformat_minor": 4
}
